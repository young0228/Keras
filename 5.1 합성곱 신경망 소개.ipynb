{
 "cells": [
  {
   "cell_type": "code",
   "execution_count": 3,
   "id": "c19f1801",
   "metadata": {},
   "outputs": [
    {
     "name": "stdout",
     "output_type": "stream",
     "text": [
      "Epoch 1/5\n",
      "938/938 [==============================] - 20s 20ms/step - loss: 0.1656 - accuracy: 0.9478\n",
      "Epoch 2/5\n",
      "938/938 [==============================] - 19s 20ms/step - loss: 0.0464 - accuracy: 0.9862\n",
      "Epoch 3/5\n",
      "938/938 [==============================] - 20s 22ms/step - loss: 0.0326 - accuracy: 0.9903\n",
      "Epoch 4/5\n",
      "938/938 [==============================] - 20s 21ms/step - loss: 0.0244 - accuracy: 0.9924\n",
      "Epoch 5/5\n",
      "938/938 [==============================] - 20s 21ms/step - loss: 0.0188 - accuracy: 0.9939\n"
     ]
    },
    {
     "data": {
      "text/plain": [
       "<keras.callbacks.History at 0x25ba2ddf130>"
      ]
     },
     "execution_count": 3,
     "metadata": {},
     "output_type": "execute_result"
    }
   ],
   "source": [
    "from keras import layers\n",
    "from keras import models\n",
    "from keras.datasets import mnist\n",
    "from keras.utils import to_categorical\n",
    "\n",
    "(train_images, train_labels), (test_images, test_labels) = mnist.load_data()\n",
    "\n",
    "train_images = train_images.reshape((60000,28,28,1))\n",
    "train_images = train_images.astype('float32') / 255\n",
    "\n",
    "test_images = test_images.reshape((10000,28,28,1))\n",
    "test_images = test_images.astype('float32') / 255\n",
    "\n",
    "train_labels = to_categorical(train_labels)\n",
    "test_labels = to_categorical(test_labels)\n",
    "\n",
    "model = models.Sequential()\n",
    "model.add(layers.Conv2D(32, (3, 3), activation='relu', input_shape=(28, 28, 1)))\n",
    "model.add(layers.MaxPooling2D((2, 2)))\n",
    "model.add(layers.Conv2D(64, (3, 3), activation='relu'))\n",
    "model.add(layers.MaxPooling2D((2, 2)))\n",
    "model.add(layers.Conv2D(64, (3, 3), activation='relu'))\n",
    "model.add(layers.Flatten())\n",
    "model.add(layers.Dense(64, activation='relu'))\n",
    "model.add(layers.Dense(10, activation='softmax'))\n",
    "\n",
    "model.compile(optimizer = 'rmsprop', loss = 'categorical_crossentropy', metrics = ['accuracy'])\n",
    "model.fit(train_images, train_labels, epochs = 5, batch_size = 64)"
   ]
  },
  {
   "cell_type": "code",
   "execution_count": 4,
   "id": "d902c34a",
   "metadata": {},
   "outputs": [
    {
     "name": "stdout",
     "output_type": "stream",
     "text": [
      "313/313 [==============================] - 2s 6ms/step - loss: 0.0339 - accuracy: 0.9896\n",
      "test loss 0.03385965898633003\n",
      "test acc 0.9896000027656555\n"
     ]
    }
   ],
   "source": [
    "test_loss, test_acc = model.evaluate(test_images, test_labels)\n",
    "print('test loss', test_loss)\n",
    "print('test acc', test_acc)"
   ]
  },
  {
   "cell_type": "markdown",
   "id": "d54920bf",
   "metadata": {},
   "source": [
    "# 5.1.1 합성곱 연산"
   ]
  },
  {
   "cell_type": "markdown",
   "id": "c4a86336",
   "metadata": {},
   "source": [
    "완전 연결 층과 합성곱 층 사이의 근본적인 차이 -> Dense 층은 입력 특성 공간에 있는 전역 패턴을 학습하지만 합성곱 층은 지역 패턴을 학습"
   ]
  },
  {
   "cell_type": "markdown",
   "id": "e4a533cb",
   "metadata": {},
   "source": [
    "컨브넷의 성질\n",
    "1. 학습된 패턴은 평행 이동 불변성(translation invariant)를 가짐\n",
    "2. 컨브넷은 패턴의 공간적 계층 구조를 학습 가능'                     "
   ]
  }
 ],
 "metadata": {
  "kernelspec": {
   "display_name": "Python 3 (ipykernel)",
   "language": "python",
   "name": "python3"
  },
  "language_info": {
   "codemirror_mode": {
    "name": "ipython",
    "version": 3
   },
   "file_extension": ".py",
   "mimetype": "text/x-python",
   "name": "python",
   "nbconvert_exporter": "python",
   "pygments_lexer": "ipython3",
   "version": "3.9.13"
  }
 },
 "nbformat": 4,
 "nbformat_minor": 5
}
