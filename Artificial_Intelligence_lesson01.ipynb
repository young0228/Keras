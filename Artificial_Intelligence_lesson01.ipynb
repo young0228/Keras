{
  "nbformat": 4,
  "nbformat_minor": 0,
  "metadata": {
    "colab": {
      "provenance": [],
      "collapsed_sections": [],
      "authorship_tag": "ABX9TyP2gFGI4hj3shCzNuPMCuHq",
      "include_colab_link": true
    },
    "kernelspec": {
      "name": "python3",
      "display_name": "Python 3"
    },
    "language_info": {
      "name": "python"
    }
  },
  "cells": [
    {
      "cell_type": "markdown",
      "metadata": {
        "id": "view-in-github",
        "colab_type": "text"
      },
      "source": [
        "<a href=\"https://colab.research.google.com/github/young0228/Keras/blob/main/Artificial_Intelligence_lesson01.ipynb\" target=\"_parent\"><img src=\"https://colab.research.google.com/assets/colab-badge.svg\" alt=\"Open In Colab\"/></a>"
      ]
    },
    {
      "cell_type": "code",
      "metadata": {
        "colab": {
          "base_uri": "https://localhost:8080/"
        },
        "id": "JGJ5O4N6d_RJ",
        "outputId": "e576de3d-d3ec-4084-c7f4-d8da3426288d"
      },
      "source": [
        "!python --version"
      ],
      "execution_count": null,
      "outputs": [
        {
          "output_type": "stream",
          "name": "stdout",
          "text": [
            "Python 3.7.12\n"
          ]
        }
      ]
    },
    {
      "cell_type": "code",
      "metadata": {
        "colab": {
          "base_uri": "https://localhost:8080/"
        },
        "id": "LFRYAc3AfvHK",
        "outputId": "0303f92d-90fe-4d75-e3e9-56b6909ae15d"
      },
      "source": [
        "def quicksort(arr):\n",
        "    if len(arr) <= 1:\n",
        "        return arr\n",
        "    pivot = arr[len(arr) // 2]\n",
        "    left = [x for x in arr if x < pivot]\n",
        "    middle = [x for x in arr if x == pivot]\n",
        "    right = [x for x in arr if x > pivot]\n",
        "    return quicksort(left) + middle + quicksort(right)\n",
        "                                               \n",
        "print(quicksort([3,6,8,10,1,2,1]))"
      ],
      "execution_count": null,
      "outputs": [
        {
          "output_type": "stream",
          "name": "stdout",
          "text": [
            "[1, 1, 2, 3, 6, 8, 10]\n"
          ]
        }
      ]
    },
    {
      "cell_type": "markdown",
      "metadata": {
        "id": "1iucalWzgnM_"
      },
      "source": [
        " 여기서 def는 함수 선언해주는 함수\n",
        "\n",
        " quicksort는 함수명, arr는 함수의 입력인자"
      ]
    },
    {
      "cell_type": "code",
      "metadata": {
        "colab": {
          "base_uri": "https://localhost:8080/"
        },
        "id": "VVTx_51SiUMo",
        "outputId": "63b3d675-5416-4ad3-fa71-a47be9d0f416"
      },
      "source": [
        "x=3\n",
        "print(x, type(x))"
      ],
      "execution_count": null,
      "outputs": [
        {
          "output_type": "stream",
          "name": "stdout",
          "text": [
            "3 <class 'int'>\n"
          ]
        }
      ]
    },
    {
      "cell_type": "code",
      "metadata": {
        "colab": {
          "base_uri": "https://localhost:8080/"
        },
        "id": "pU7CbxiBilOO",
        "outputId": "2ebca1ad-1f32-4ab2-e6b2-3e4417d67a56"
      },
      "source": [
        "print(x+1)    #Addition\n",
        "print(x-1)    #Subtraction\n",
        "print(x*2)    #Multipliaction\n",
        "print(x ** 2) #Exponentiation"
      ],
      "execution_count": null,
      "outputs": [
        {
          "output_type": "stream",
          "name": "stdout",
          "text": [
            "4\n",
            "2\n",
            "6\n",
            "9\n"
          ]
        }
      ]
    },
    {
      "cell_type": "code",
      "metadata": {
        "colab": {
          "base_uri": "https://localhost:8080/"
        },
        "id": "jpgnaIooi43y",
        "outputId": "55dacebc-0aac-454e-c90b-7fc35323631d"
      },
      "source": [
        "x +=1\n",
        "print(x)\n",
        "x *=2\n",
        "print(x)"
      ],
      "execution_count": null,
      "outputs": [
        {
          "output_type": "stream",
          "name": "stdout",
          "text": [
            "4\n",
            "8\n"
          ]
        }
      ]
    },
    {
      "cell_type": "markdown",
      "metadata": {
        "id": "yzmZKDUjjRsc"
      },
      "source": [
        "x +=1은 x에 1 더하는 것"
      ]
    },
    {
      "cell_type": "code",
      "metadata": {
        "colab": {
          "base_uri": "https://localhost:8080/"
        },
        "id": "N_WlEF5BjBdi",
        "outputId": "340a1e41-be0e-434f-cfbb-71c25b7c9ff4"
      },
      "source": [
        "y=2.5\n",
        "print(type(y))\n",
        "print(y, y+1, y*2, y**2)"
      ],
      "execution_count": null,
      "outputs": [
        {
          "output_type": "stream",
          "name": "stdout",
          "text": [
            "<class 'float'>\n",
            "2.5 3.5 5.0 6.25\n"
          ]
        }
      ]
    },
    {
      "cell_type": "markdown",
      "metadata": {
        "id": "5vt1ClkZjff8"
      },
      "source": [
        ".을 입력해주지 않으면 실수가 아닌 정수로 인식해 계산해버릴 수 있으니까 조심하기"
      ]
    },
    {
      "cell_type": "code",
      "metadata": {
        "colab": {
          "base_uri": "https://localhost:8080/"
        },
        "id": "LeAnqZpWjlCl",
        "outputId": "bc5af5f2-69b5-4677-a5fe-f34a93a8aaa5"
      },
      "source": [
        "t, f=True, False\n",
        "print(type(t))"
      ],
      "execution_count": null,
      "outputs": [
        {
          "output_type": "stream",
          "name": "stdout",
          "text": [
            "<class 'bool'>\n"
          ]
        }
      ]
    },
    {
      "cell_type": "code",
      "metadata": {
        "colab": {
          "base_uri": "https://localhost:8080/"
        },
        "id": "KcmHN2Drjtjv",
        "outputId": "d41a5201-ec26-47d9-ffdf-c3f981d6241f"
      },
      "source": [
        "print(t and f) #Logical AND; 둘다 true여야 true가 나옴\n",
        "print(t or f)  #Logical OR;  둘 중에 하나가 true면 true 나옴\n",
        "print(not t)   #Logical NOT;\n",
        "print(t != f)  #LOgical XOR; "
      ],
      "execution_count": null,
      "outputs": [
        {
          "output_type": "stream",
          "name": "stdout",
          "text": [
            "False\n",
            "True\n",
            "False\n",
            "True\n"
          ]
        }
      ]
    },
    {
      "cell_type": "code",
      "metadata": {
        "colab": {
          "base_uri": "https://localhost:8080/"
        },
        "id": "qoubmD0wktjp",
        "outputId": "4d589997-8391-40f8-e085-1ca0be5cbaa7"
      },
      "source": [
        "hello='hello' #String literals can use single quotes\n",
        "world=\"world\" # or double quotes; it does not atter\n",
        "print(hello, len(hello))"
      ],
      "execution_count": null,
      "outputs": [
        {
          "output_type": "stream",
          "name": "stdout",
          "text": [
            "hello 5\n"
          ]
        }
      ]
    },
    {
      "cell_type": "code",
      "metadata": {
        "colab": {
          "base_uri": "https://localhost:8080/"
        },
        "id": "m9IGlWZKk6kb",
        "outputId": "fec9ca28-a8ea-4870-a30a-2b87b7a82584"
      },
      "source": [
        "hw=hello+' '+world # String concatenation\n",
        "print(hw)"
      ],
      "execution_count": null,
      "outputs": [
        {
          "output_type": "stream",
          "name": "stdout",
          "text": [
            "hello world\n"
          ]
        }
      ]
    },
    {
      "cell_type": "code",
      "metadata": {
        "colab": {
          "base_uri": "https://localhost:8080/"
        },
        "id": "tyzXXlm6lA-J",
        "outputId": "01c60d08-0864-4d61-a827-2184077b9a70"
      },
      "source": [
        "hw12='{} {} {}'.format(hello, world, 12) #String formatting\n",
        "print(hw12)"
      ],
      "execution_count": null,
      "outputs": [
        {
          "output_type": "stream",
          "name": "stdout",
          "text": [
            "hello world 12\n"
          ]
        }
      ]
    },
    {
      "cell_type": "code",
      "metadata": {
        "colab": {
          "base_uri": "https://localhost:8080/"
        },
        "id": "yYBwAHwOnOdt",
        "outputId": "c702bb64-e092-4dc3-931a-2c382cc5609c"
      },
      "source": [
        "s=\"hello\"\n",
        "print(s.capitalize())   #Capitalize a string\n",
        "print(s.upper())        #Convert a string to uppercase; prints \"HELLO\"\n",
        "print(s.rjust(7))      #Right-justify a string, padding with spaces\n",
        "print(s.center(7))      #Center a string padding with spaces\n",
        "print(s.replace('l','(ell)')) #Replace all instances of one substring with another\n",
        "print('   world'.strip()) #Strip leading and trailing whitespace"
      ],
      "execution_count": null,
      "outputs": [
        {
          "output_type": "stream",
          "name": "stdout",
          "text": [
            "Hello\n",
            "HELLO\n",
            "  hello\n",
            " hello \n",
            "he(ell)(ell)o\n",
            "world\n"
          ]
        }
      ]
    },
    {
      "cell_type": "code",
      "metadata": {
        "colab": {
          "base_uri": "https://localhost:8080/"
        },
        "id": "Uw80ygyaoYxW",
        "outputId": "0fc6e2f2-f00e-43dc-a08f-ff947ac48de2"
      },
      "source": [
        "xs= [3,1,2] #Create a list\n",
        "print(xs, xs[2])\n",
        "print(xs[-1]) #Negative indices count from the end of the list; prints \"2\"\n",
        "print(xs[0])\n",
        "print(xs[1])"
      ],
      "execution_count": null,
      "outputs": [
        {
          "output_type": "stream",
          "name": "stdout",
          "text": [
            "[3, 1, 2] 2\n",
            "2\n",
            "3\n",
            "1\n"
          ]
        }
      ]
    },
    {
      "cell_type": "markdown",
      "metadata": {
        "id": "CQrCQerVouHJ"
      },
      "source": [
        "숫자 0부터 시작함"
      ]
    },
    {
      "cell_type": "code",
      "metadata": {
        "colab": {
          "base_uri": "https://localhost:8080/"
        },
        "id": "LmsSgl6so5Ho",
        "outputId": "a53fc232-9555-4cb5-d298-84a8efeb6a90"
      },
      "source": [
        "xs[2] = 'foo' #Lists can contain elements of different types\n",
        "print(xs)"
      ],
      "execution_count": null,
      "outputs": [
        {
          "output_type": "stream",
          "name": "stdout",
          "text": [
            "[3, 1, 'foo']\n"
          ]
        }
      ]
    },
    {
      "cell_type": "code",
      "metadata": {
        "colab": {
          "base_uri": "https://localhost:8080/"
        },
        "id": "W6PJYJ5IpECo",
        "outputId": "c99c1ee0-0bb3-4af4-fb57-8ab4b9d5b481"
      },
      "source": [
        "xs.append('bar')  #Add a new element to the end of the list\n",
        "print(xs)"
      ],
      "execution_count": null,
      "outputs": [
        {
          "output_type": "stream",
          "name": "stdout",
          "text": [
            "[3, 1, 'foo', 'bar']\n"
          ]
        }
      ]
    },
    {
      "cell_type": "code",
      "metadata": {
        "colab": {
          "base_uri": "https://localhost:8080/"
        },
        "id": "ruoqrlNRpOYP",
        "outputId": "c776a73f-6086-4c9e-b2c5-973ff2a1c75f"
      },
      "source": [
        "x=xs.pop() #Remove and return the last element of the list\n",
        "print(x, xs)"
      ],
      "execution_count": null,
      "outputs": [
        {
          "output_type": "stream",
          "name": "stdout",
          "text": [
            "1 [3]\n"
          ]
        }
      ]
    },
    {
      "cell_type": "markdown",
      "metadata": {
        "id": "vF5FMFvSqOO5"
      },
      "source": [
        "실행해볼때마다 맨 뒤의 애들이 지워짐"
      ]
    },
    {
      "cell_type": "code",
      "metadata": {
        "colab": {
          "base_uri": "https://localhost:8080/"
        },
        "id": "-6Y9lkT9qQ8y",
        "outputId": "6c03b581-bc76-40ae-ae93-d11b352121ad"
      },
      "source": [
        "nums = list(range(5))   #Range is a built-in function that creates a list of integers\n",
        "print(nums)             #Prints \"[0,1,2,3,4]\"\n",
        "print(nums[2:4])        #Get a slice from index 2 to 4 (exclusive); prints \"[2,3]\"\n",
        "print(nums[2:])         #Get a slice from index 2 to the end: prints \"[2,3,4]\"\n",
        "print(nums[:2])         #Get a slice from the start to index 2 (exclusive); prints \"[0,1]\"\n",
        "print(nums[:])          #Get a slice of the whole list; prints \"[0,1,2,3,4]\"\n",
        "print(nums[:-1])        #Slice indices can be negative; prints '[0,1,2,3]\n",
        "nums[2:4] = [8,9]       #Assign a new sublist to a slice\n",
        "print(nums)             #Print \"[0,1,8,9,4]\""
      ],
      "execution_count": null,
      "outputs": [
        {
          "output_type": "stream",
          "name": "stdout",
          "text": [
            "[0, 1, 2, 3, 4]\n",
            "[2, 3]\n",
            "[2, 3, 4]\n",
            "[0, 1]\n",
            "[0, 1, 2, 3, 4]\n",
            "[0, 1, 2, 3]\n",
            "[0, 1, 8, 9, 4]\n"
          ]
        }
      ]
    },
    {
      "cell_type": "markdown",
      "metadata": {
        "id": "V8dkdkrnsj5i"
      },
      "source": [
        "nums[]에서 중요한 것은 앞에 있는 것 포함, 뒤에 있는 건 미포함이라는 것"
      ]
    },
    {
      "cell_type": "code",
      "metadata": {
        "colab": {
          "base_uri": "https://localhost:8080/"
        },
        "id": "ngLcclyTstD3",
        "outputId": "b488db7f-b03f-4534-c410-c703b1452a91"
      },
      "source": [
        "animals = ['cat','dog','monkey']\n",
        "for animal in animals:\n",
        "    print(animal)\n",
        "\n",
        "for i in range(10):\n",
        "    print(i)"
      ],
      "execution_count": null,
      "outputs": [
        {
          "output_type": "stream",
          "name": "stdout",
          "text": [
            "cat\n",
            "dog\n",
            "monkey\n",
            "0\n",
            "1\n",
            "2\n",
            "3\n",
            "4\n",
            "5\n",
            "6\n",
            "7\n",
            "8\n",
            "9\n"
          ]
        }
      ]
    },
    {
      "cell_type": "code",
      "metadata": {
        "colab": {
          "base_uri": "https://localhost:8080/"
        },
        "id": "JDmaady7tnv4",
        "outputId": "5e69eb21-871a-4f18-a524-e8dc1785f0c5"
      },
      "source": [
        "animals = ['cat','dog','monkey']\n",
        "for idx, animal in enumerate(animals):\n",
        "    print('#{}: {}'.format(idx + 1, animal))"
      ],
      "execution_count": null,
      "outputs": [
        {
          "output_type": "stream",
          "name": "stdout",
          "text": [
            "#1: cat\n",
            "#2: dog\n",
            "#3: monkey\n"
          ]
        }
      ]
    },
    {
      "cell_type": "markdown",
      "metadata": {
        "id": "BhHAY_UWt6qz"
      },
      "source": [
        "idx + 1을 한거는 0부터 시작이기 때문에 편하게 보기 위해서 1을 더해준 것임"
      ]
    },
    {
      "cell_type": "code",
      "metadata": {
        "colab": {
          "base_uri": "https://localhost:8080/"
        },
        "id": "rg2zenErucqi",
        "outputId": "d0f69442-b1e0-4279-b4fa-e77cc7be664c"
      },
      "source": [
        "nums = [0,1,2,3,4]\n",
        "squares = []\n",
        "for x in nums:\n",
        "    squares.append(x**2)\n",
        "print(squares)"
      ],
      "execution_count": null,
      "outputs": [
        {
          "output_type": "stream",
          "name": "stdout",
          "text": [
            "[0, 1, 4, 9, 16]\n"
          ]
        }
      ]
    },
    {
      "cell_type": "code",
      "metadata": {
        "colab": {
          "base_uri": "https://localhost:8080/"
        },
        "id": "f2n91dvUuojd",
        "outputId": "390d2e5e-6b93-4684-ba30-0054a476373e"
      },
      "source": [
        "nums = [0,1,2,3,4]\n",
        "squares = [x ** 2 for x in nums]\n",
        "print(squares)"
      ],
      "execution_count": null,
      "outputs": [
        {
          "output_type": "stream",
          "name": "stdout",
          "text": [
            "[0, 1, 4, 9, 16]\n"
          ]
        }
      ]
    },
    {
      "cell_type": "code",
      "metadata": {
        "colab": {
          "base_uri": "https://localhost:8080/"
        },
        "id": "kHkiKiXavNom",
        "outputId": "aa955b59-c30f-4734-828e-0d13b6cd35cf"
      },
      "source": [
        "nums = [0,1,2,3,4]\n",
        "even_squares = [x ** 2 for x in nums if x % 2 == 0]\n",
        "print(even_squares)"
      ],
      "execution_count": null,
      "outputs": [
        {
          "output_type": "stream",
          "name": "stdout",
          "text": [
            "[0, 4, 16]\n"
          ]
        }
      ]
    },
    {
      "cell_type": "markdown",
      "metadata": {
        "id": "7NSOBw3_vbQB"
      },
      "source": [
        "x가 2로 나눴을 때 0이라는 것은 짝수라는 거니까 짝수인 애들만 프린트해달라는 뜻"
      ]
    },
    {
      "cell_type": "code",
      "metadata": {
        "colab": {
          "base_uri": "https://localhost:8080/"
        },
        "id": "3PcqUXW8vgOJ",
        "outputId": "0b3083fd-01b5-4eb7-ffe6-cb4774ef17f3"
      },
      "source": [
        "d = {'cat': 'cute','dog': 'furry'} # Create a new dictionary with same data\n",
        "print(d['cat'])     #Get an entry from a dictionary\n",
        "print('cat' in d)   #Check if a dictionary has a given key"
      ],
      "execution_count": null,
      "outputs": [
        {
          "output_type": "stream",
          "name": "stdout",
          "text": [
            "cute\n",
            "True\n"
          ]
        }
      ]
    },
    {
      "cell_type": "code",
      "metadata": {
        "colab": {
          "base_uri": "https://localhost:8080/"
        },
        "id": "TwWmt89Sv6al",
        "outputId": "0aeb5815-f3f0-4d09-e1cb-bb6b9ee7af00"
      },
      "source": [
        "d['fish'] = 'wet'   #Set an entry in a dictonary\n",
        "print(d['fish'])    #Prints \"wet\""
      ],
      "execution_count": null,
      "outputs": [
        {
          "output_type": "stream",
          "name": "stdout",
          "text": [
            "wet\n"
          ]
        }
      ]
    },
    {
      "cell_type": "code",
      "metadata": {
        "colab": {
          "base_uri": "https://localhost:8080/",
          "height": 172
        },
        "id": "SwvUkZWQwGlR",
        "outputId": "cd8ef569-c447-4071-b3c5-388665929529"
      },
      "source": [
        "print(d['monkey'])"
      ],
      "execution_count": null,
      "outputs": [
        {
          "output_type": "error",
          "ename": "KeyError",
          "evalue": "ignored",
          "traceback": [
            "\u001b[0;31m---------------------------------------------------------------------------\u001b[0m",
            "\u001b[0;31mKeyError\u001b[0m                                  Traceback (most recent call last)",
            "\u001b[0;32m<ipython-input-39-ef9bb4954edb>\u001b[0m in \u001b[0;36m<module>\u001b[0;34m()\u001b[0m\n\u001b[0;32m----> 1\u001b[0;31m \u001b[0mprint\u001b[0m\u001b[0;34m(\u001b[0m\u001b[0md\u001b[0m\u001b[0;34m[\u001b[0m\u001b[0;34m'monkey'\u001b[0m\u001b[0;34m]\u001b[0m\u001b[0;34m)\u001b[0m\u001b[0;34m\u001b[0m\u001b[0;34m\u001b[0m\u001b[0m\n\u001b[0m",
            "\u001b[0;31mKeyError\u001b[0m: 'monkey'"
          ]
        }
      ]
    },
    {
      "cell_type": "code",
      "metadata": {
        "colab": {
          "base_uri": "https://localhost:8080/"
        },
        "id": "eBj85y44wmyY",
        "outputId": "bbcd09d8-b188-4716-8a55-d32296162035"
      },
      "source": [
        "print(d.get('monkey', 'N/A'))   #값이 없으면 대체\n",
        "print(d.get('fish', 'N/A'))"
      ],
      "execution_count": null,
      "outputs": [
        {
          "output_type": "stream",
          "name": "stdout",
          "text": [
            "N/A\n",
            "wet\n"
          ]
        }
      ]
    },
    {
      "cell_type": "code",
      "metadata": {
        "colab": {
          "base_uri": "https://localhost:8080/"
        },
        "id": "J6ZJbaBnwzju",
        "outputId": "b21c3308-0144-4d0c-b875-1c4fc2629d07"
      },
      "source": [
        "del d['fish']                 #Delete\n",
        "print(d.get('fish', 'N/A'))"
      ],
      "execution_count": null,
      "outputs": [
        {
          "output_type": "stream",
          "name": "stdout",
          "text": [
            "N/A\n"
          ]
        }
      ]
    },
    {
      "cell_type": "code",
      "metadata": {
        "colab": {
          "base_uri": "https://localhost:8080/"
        },
        "id": "6CM8hFuXxtSC",
        "outputId": "95fc0a98-9303-435d-e2ed-3be256e5c966"
      },
      "source": [
        "d = {'person': 2, 'cat':4, 'spider':8}\n",
        "for animals, legs in d.items():\n",
        "    print('A {} has {} legs'.format(animals, legs))"
      ],
      "execution_count": null,
      "outputs": [
        {
          "output_type": "stream",
          "name": "stdout",
          "text": [
            "A person has 2 legs\n",
            "A cat has 4 legs\n",
            "A spider has 8 legs\n"
          ]
        }
      ]
    },
    {
      "cell_type": "code",
      "metadata": {
        "colab": {
          "base_uri": "https://localhost:8080/"
        },
        "id": "g9KLjf-Zy4CT",
        "outputId": "f43a1463-3bc7-4d1c-bee9-6d88f1e7df8c"
      },
      "source": [
        "nums = [0,1,2,3,4]\n",
        "even_num_to_square =  {x: x ** 2 for x in nums if x % 2 ==0}\n",
        "print(even_num_to_square)"
      ],
      "execution_count": null,
      "outputs": [
        {
          "output_type": "stream",
          "name": "stdout",
          "text": [
            "{0: 0, 2: 4, 4: 16}\n"
          ]
        }
      ]
    },
    {
      "cell_type": "markdown",
      "metadata": {
        "id": "A5I63hjbzgRm"
      },
      "source": [
        "[] List {} Dictionary"
      ]
    },
    {
      "cell_type": "code",
      "metadata": {
        "colab": {
          "base_uri": "https://localhost:8080/"
        },
        "id": "FHcrYWQm0GCH",
        "outputId": "2a85dbfe-3a10-49ed-caf0-7f6e074b8205"
      },
      "source": [
        "animals = {'cat','dog'}\n",
        "print('cat' in animals)\n",
        "print('fish' in animals)"
      ],
      "execution_count": null,
      "outputs": [
        {
          "output_type": "stream",
          "name": "stdout",
          "text": [
            "True\n",
            "False\n"
          ]
        }
      ]
    },
    {
      "cell_type": "code",
      "metadata": {
        "colab": {
          "base_uri": "https://localhost:8080/"
        },
        "id": "VlsT0V8V0Rl0",
        "outputId": "10c5936c-50dd-4708-b4c0-20a925a69919"
      },
      "source": [
        "animals.add('fish')\n",
        "print('fish' in animals)\n",
        "print(len(animals))   #number of elements in a set"
      ],
      "execution_count": null,
      "outputs": [
        {
          "output_type": "stream",
          "name": "stdout",
          "text": [
            "True\n",
            "3\n"
          ]
        }
      ]
    },
    {
      "cell_type": "code",
      "metadata": {
        "colab": {
          "base_uri": "https://localhost:8080/"
        },
        "id": "j-H49bJZ0mrC",
        "outputId": "d7e8d785-890c-44f3-bec4-c389635014b4"
      },
      "source": [
        "animals.add('cat')\n",
        "print(len(animals))\n",
        "animals.remove('cat')\n",
        "print(len(animals))"
      ],
      "execution_count": null,
      "outputs": [
        {
          "output_type": "stream",
          "name": "stdout",
          "text": [
            "3\n",
            "2\n"
          ]
        }
      ]
    },
    {
      "cell_type": "markdown",
      "metadata": {
        "id": "B5Uub84J0vX4"
      },
      "source": [
        "이미 있는 것은 추가해도 추가가 되지 않음 그래서 추가해봤자 똑같이 3개인데 제거하면 cat이 사라져서 2개가 됨"
      ]
    },
    {
      "cell_type": "code",
      "metadata": {
        "id": "uADWP1ZJ0238"
      },
      "source": [
        "animals = {'cat','dog','fish'}\n",
        "for idx, animal in enumerate(animals):\n",
        "    print('#{}: {}'.format(idx+1, animal))"
      ],
      "execution_count": null,
      "outputs": []
    },
    {
      "cell_type": "markdown",
      "metadata": {
        "id": "TnUmoNNG1KKd"
      },
      "source": [
        "List는 내가 입력한대로 순서가 들어가는데 Set은 규정대로 정함."
      ]
    },
    {
      "cell_type": "code",
      "metadata": {
        "colab": {
          "base_uri": "https://localhost:8080/"
        },
        "id": "BfiFXsxd1Rjc",
        "outputId": "b2f5957f-05be-48a6-86b2-8fe02ded5408"
      },
      "source": [
        "from math import sqrt\n",
        "print({int(sqrt(x)) for x in range(30)})\n",
        "int(5.9)"
      ],
      "execution_count": null,
      "outputs": [
        {
          "output_type": "stream",
          "name": "stdout",
          "text": [
            "{0, 1, 2, 3, 4, 5}\n"
          ]
        },
        {
          "output_type": "execute_result",
          "data": {
            "text/plain": [
              "5"
            ]
          },
          "metadata": {},
          "execution_count": 51
        }
      ]
    },
    {
      "cell_type": "markdown",
      "metadata": {
        "id": "vPCGRDE21j5Z"
      },
      "source": [
        "sqrt가 제곱근 함수라는데 그래서 25의 제곱근인 5까지 들어있음, 그리고 int쓰면 버림인가봐"
      ]
    },
    {
      "cell_type": "code",
      "metadata": {
        "colab": {
          "base_uri": "https://localhost:8080/"
        },
        "id": "twSOYm9j2Haa",
        "outputId": "7315caf1-9fc3-4678-d5c4-0ac79e996fe1"
      },
      "source": [
        "d = {(x, x+1): x for x in range(10)} #Create dictionary keys with tuple keys\n",
        "t = (5,6)  #Create a tupe\n",
        "print(type(t))\n",
        "print(d)\n",
        "print(d[t])\n",
        "print(d[(1,2)])"
      ],
      "execution_count": null,
      "outputs": [
        {
          "output_type": "stream",
          "name": "stdout",
          "text": [
            "<class 'tuple'>\n",
            "{(0, 1): 0, (1, 2): 1, (2, 3): 2, (3, 4): 3, (4, 5): 4, (5, 6): 5, (6, 7): 6, (7, 8): 7, (8, 9): 8, (9, 10): 9}\n",
            "5\n",
            "1\n"
          ]
        }
      ]
    },
    {
      "cell_type": "code",
      "metadata": {
        "colab": {
          "base_uri": "https://localhost:8080/",
          "height": 172
        },
        "id": "YbsmAZOA25sU",
        "outputId": "2b216bc3-a639-4374-8efb-18c09cd66a9c"
      },
      "source": [
        "t[0]=1"
      ],
      "execution_count": null,
      "outputs": [
        {
          "output_type": "error",
          "ename": "TypeError",
          "evalue": "ignored",
          "traceback": [
            "\u001b[0;31m---------------------------------------------------------------------------\u001b[0m",
            "\u001b[0;31mTypeError\u001b[0m                                 Traceback (most recent call last)",
            "\u001b[0;32m<ipython-input-53-531e22094236>\u001b[0m in \u001b[0;36m<module>\u001b[0;34m()\u001b[0m\n\u001b[0;32m----> 1\u001b[0;31m \u001b[0mt\u001b[0m\u001b[0;34m[\u001b[0m\u001b[0;36m0\u001b[0m\u001b[0;34m]\u001b[0m\u001b[0;34m=\u001b[0m\u001b[0;36m1\u001b[0m\u001b[0;34m\u001b[0m\u001b[0;34m\u001b[0m\u001b[0m\n\u001b[0m",
            "\u001b[0;31mTypeError\u001b[0m: 'tuple' object does not support item assignment"
          ]
        }
      ]
    },
    {
      "cell_type": "markdown",
      "metadata": {
        "id": "a0XOtc2k27mI"
      },
      "source": [
        "튜플은 한 번 만들고 나면 Assignment가 되지 않음\n",
        "\n",
        "---\n",
        "한 번 만들어지면 변경이 안됨\n"
      ]
    },
    {
      "cell_type": "code",
      "metadata": {
        "colab": {
          "base_uri": "https://localhost:8080/"
        },
        "id": "7OW6Gf4Q3JLw",
        "outputId": "2e7c3f2f-e1e9-41db-a7a4-0f10773c0122"
      },
      "source": [
        "def sign(x):\n",
        "    if x > 0:\n",
        "        return 'positive'\n",
        "    elif x < 0:\n",
        "        return 'negative'\n",
        "    else:\n",
        "        return 'zero'\n",
        "\n",
        "for x in [-1, 0, 1]:\n",
        "    print(sign(x))"
      ],
      "execution_count": null,
      "outputs": [
        {
          "output_type": "stream",
          "name": "stdout",
          "text": [
            "negative\n",
            "zero\n",
            "positive\n"
          ]
        }
      ]
    },
    {
      "cell_type": "code",
      "metadata": {
        "colab": {
          "base_uri": "https://localhost:8080/"
        },
        "id": "YdRrO-JM3z5L",
        "outputId": "0aa0cd5b-83be-42e3-8ff1-c28d50e6e30e"
      },
      "source": [
        "def hello(name, loud=False):\n",
        "    if loud:\n",
        "        print('HELLO, {}'.format(name.upper()))\n",
        "    else:\n",
        "        print('HELLO, {}!'.format(name))\n",
        "\n",
        "hello('Bob')\n",
        "hello('Fred', loud=True)"
      ],
      "execution_count": null,
      "outputs": [
        {
          "output_type": "stream",
          "name": "stdout",
          "text": [
            "HELLO, Bob!\n",
            "HELLO, FRED\n"
          ]
        }
      ]
    },
    {
      "cell_type": "code",
      "metadata": {
        "colab": {
          "base_uri": "https://localhost:8080/"
        },
        "id": "JEV-yFA05nxh",
        "outputId": "0f9b284c-f8a7-4fb3-c03c-7ba1e2b7d9fa"
      },
      "source": [
        "class Greeter:\n",
        "\n",
        "  # Constructor\n",
        "  def __init__(self, name):\n",
        "    self.name = name #Create an instance variable\n",
        "  \n",
        "  # Instance Method\n",
        "  def greet(self, loud=False):\n",
        "    if loud:\n",
        "      print('HELLO, {}'.format(self.name.upper()))\n",
        "    else:\n",
        "      print('Hello {}!'.format(self.name))\n",
        "\n",
        "g = Greeter('Fred') #Construct an insatance of the Greeter\n",
        "g.greet()           #Call an instance method\n",
        "g.greet(loud=True)  #Call an instance method"
      ],
      "execution_count": null,
      "outputs": [
        {
          "output_type": "stream",
          "name": "stdout",
          "text": [
            "Hello Fred!\n",
            "HELLO, FRED\n"
          ]
        }
      ]
    },
    {
      "cell_type": "code",
      "metadata": {
        "id": "ordlAtpS8Oe1"
      },
      "source": [
        "import numpy as np"
      ],
      "execution_count": null,
      "outputs": []
    },
    {
      "cell_type": "markdown",
      "metadata": {
        "id": "uICmy2Zd8g7n"
      },
      "source": [
        "과학적 계산을 위한 패키지 numpy를 불러오기 위해 import 사용, as로 이름 바꿔줌"
      ]
    },
    {
      "cell_type": "markdown",
      "metadata": {
        "id": "KIRXiS0_6XU0"
      },
      "source": [
        "class가 함수와 데이터가 모두 있는건데 self.name = name이라고 하면 ,내가 정의하고 있는 클래스 안에 있는 변수라는 뜻"
      ]
    },
    {
      "cell_type": "code",
      "metadata": {
        "colab": {
          "base_uri": "https://localhost:8080/"
        },
        "id": "G-E7Mo-n8gK2",
        "outputId": "87dbcb36-68b3-48b1-8730-f3f043aa9e31"
      },
      "source": [
        "a = np.array([1,2,3])\n",
        "print(type(a), a.shape, a[0], a[1], a[2])\n",
        "a[0]=5\n",
        "print(a)"
      ],
      "execution_count": null,
      "outputs": [
        {
          "output_type": "stream",
          "name": "stdout",
          "text": [
            "<class 'numpy.ndarray'> (3,) 1 2 3\n",
            "[5 2 3]\n"
          ]
        }
      ]
    },
    {
      "cell_type": "code",
      "metadata": {
        "colab": {
          "base_uri": "https://localhost:8080/"
        },
        "id": "hCh5aSt483IJ",
        "outputId": "d1db147a-a362-42b6-b484-911986786108"
      },
      "source": [
        "b = np.array([[1,2,3],[4,5,6]])\n",
        "print(b)"
      ],
      "execution_count": null,
      "outputs": [
        {
          "output_type": "stream",
          "name": "stdout",
          "text": [
            "[[1 2 3]\n",
            " [4 5 6]]\n"
          ]
        }
      ]
    },
    {
      "cell_type": "code",
      "metadata": {
        "colab": {
          "base_uri": "https://localhost:8080/"
        },
        "id": "14kmZdIn8_ZU",
        "outputId": "538548b1-6811-44d6-dff4-a9802c38664b"
      },
      "source": [
        "print(b.shape)\n",
        "print(b[0,0],b[0,1],b[1,0])"
      ],
      "execution_count": null,
      "outputs": [
        {
          "output_type": "stream",
          "name": "stdout",
          "text": [
            "(2, 3)\n",
            "1 2 4\n"
          ]
        }
      ]
    },
    {
      "cell_type": "code",
      "metadata": {
        "colab": {
          "base_uri": "https://localhost:8080/"
        },
        "id": "tSZL17y-9rWI",
        "outputId": "d25f5649-173b-4055-c078-cbce6cba0567"
      },
      "source": [
        "a = np.zeros((2,2))  \n",
        "print(a)"
      ],
      "execution_count": null,
      "outputs": [
        {
          "output_type": "stream",
          "name": "stdout",
          "text": [
            "[[0. 0.]\n",
            " [0. 0.]]\n"
          ]
        }
      ]
    },
    {
      "cell_type": "code",
      "metadata": {
        "colab": {
          "base_uri": "https://localhost:8080/"
        },
        "id": "uogBIfl79yF1",
        "outputId": "16f5ac4c-51f5-486b-c08d-db640dde3353"
      },
      "source": [
        "b = np.ones((1,2))\n",
        "print(b)"
      ],
      "execution_count": null,
      "outputs": [
        {
          "output_type": "stream",
          "name": "stdout",
          "text": [
            "[[1. 1.]]\n"
          ]
        }
      ]
    },
    {
      "cell_type": "code",
      "metadata": {
        "colab": {
          "base_uri": "https://localhost:8080/"
        },
        "id": "gAH8ttNC99xg",
        "outputId": "58fe34ec-842b-49e3-b947-58d249d07bcd"
      },
      "source": [
        "c = np.full((2,2),7)\n",
        "print(c)"
      ],
      "execution_count": null,
      "outputs": [
        {
          "output_type": "stream",
          "name": "stdout",
          "text": [
            "[[7 7]\n",
            " [7 7]]\n"
          ]
        }
      ]
    },
    {
      "cell_type": "code",
      "metadata": {
        "colab": {
          "base_uri": "https://localhost:8080/"
        },
        "id": "LOQa1vE6908N",
        "outputId": "e75a7538-71cc-4252-e7cb-5be91b2d6460"
      },
      "source": [
        "d = np.eye(2)\n",
        "print(d)"
      ],
      "execution_count": null,
      "outputs": [
        {
          "output_type": "stream",
          "name": "stdout",
          "text": [
            "[[1. 0.]\n",
            " [0. 1.]]\n"
          ]
        }
      ]
    },
    {
      "cell_type": "code",
      "metadata": {
        "colab": {
          "base_uri": "https://localhost:8080/"
        },
        "id": "Hr5baCp3-GEk",
        "outputId": "e00db58a-308f-41e4-9ca9-c41b7a685897"
      },
      "source": [
        "e = np.random.random((2,2))\n",
        "print(e)"
      ],
      "execution_count": null,
      "outputs": [
        {
          "output_type": "stream",
          "name": "stdout",
          "text": [
            "[[0.95178489 0.23075513]\n",
            " [0.19666069 0.78806168]]\n"
          ]
        }
      ]
    },
    {
      "cell_type": "code",
      "metadata": {
        "colab": {
          "base_uri": "https://localhost:8080/"
        },
        "id": "g4Uq61c_-vGr",
        "outputId": "14b4ffee-6f5d-4530-9b63-cfcf77554472"
      },
      "source": [
        "import numpy as np\n",
        "\n",
        "a= np.array([[1,2,3,4], [5,6,7,8],[9,10,11,12]])\n",
        "\n",
        "b=a[:2, 1:3]\n",
        "print(b)"
      ],
      "execution_count": null,
      "outputs": [
        {
          "output_type": "stream",
          "name": "stdout",
          "text": [
            "[[2 3]\n",
            " [6 7]]\n"
          ]
        }
      ]
    },
    {
      "cell_type": "code",
      "metadata": {
        "colab": {
          "base_uri": "https://localhost:8080/"
        },
        "id": "mb7hiIpE_I1W",
        "outputId": "f1e955f5-0638-4e8a-93bb-f5ac858e9f2e"
      },
      "source": [
        "print(a[0,1])\n",
        "b[0,0]=77\n",
        "print(a[0,1])"
      ],
      "execution_count": null,
      "outputs": [
        {
          "output_type": "stream",
          "name": "stdout",
          "text": [
            "77\n",
            "77\n"
          ]
        }
      ]
    },
    {
      "cell_type": "code",
      "metadata": {
        "colab": {
          "base_uri": "https://localhost:8080/"
        },
        "id": "fkf5Lmf-_Pw_",
        "outputId": "1bc77163-c693-43a2-a6d0-57f4c0da76d5"
      },
      "source": [
        "a = np.array([[1,2,3,4],[5,6,7,8],[9,10,11,12]])\n",
        "print(a)"
      ],
      "execution_count": null,
      "outputs": [
        {
          "output_type": "stream",
          "name": "stdout",
          "text": [
            "[[ 1  2  3  4]\n",
            " [ 5  6  7  8]\n",
            " [ 9 10 11 12]]\n"
          ]
        }
      ]
    },
    {
      "cell_type": "code",
      "metadata": {
        "colab": {
          "base_uri": "https://localhost:8080/"
        },
        "id": "4qckQU-p_ttm",
        "outputId": "f29e6fac-4da6-46da-e73c-5effb52afd80"
      },
      "source": [
        "row_r1= a[1, :]\n",
        "row_r2= a[1:2, :]\n",
        "row_r3= a[[1], :]\n",
        "print(row_r2, row_r1.shape)\n",
        "print(row_r2, row_r2.shape)\n",
        "print(row_r2, row_r3.shape)"
      ],
      "execution_count": null,
      "outputs": [
        {
          "output_type": "stream",
          "name": "stdout",
          "text": [
            "[[5 6 7 8]] (4,)\n",
            "[[5 6 7 8]] (1, 4)\n",
            "[[5 6 7 8]] (1, 4)\n"
          ]
        }
      ]
    },
    {
      "cell_type": "code",
      "metadata": {
        "colab": {
          "base_uri": "https://localhost:8080/"
        },
        "id": "f0PI_iyA_9ki",
        "outputId": "a7972075-f102-416e-85e2-1e4c250d1211"
      },
      "source": [
        "col_r1 = a[:, 1]\n",
        "col_r2 = a[:, 1:2]\n",
        "print(col_r1, col_r1.shape)\n",
        "print()\n",
        "print(col_r2, col_r2.shape)"
      ],
      "execution_count": null,
      "outputs": [
        {
          "output_type": "stream",
          "name": "stdout",
          "text": [
            "[ 2  6 10] (3,)\n",
            "\n",
            "[[ 2]\n",
            " [ 6]\n",
            " [10]] (3, 1)\n"
          ]
        }
      ]
    },
    {
      "cell_type": "code",
      "metadata": {
        "colab": {
          "base_uri": "https://localhost:8080/"
        },
        "id": "aa-YKu2lAaao",
        "outputId": "e6983b04-99a7-4eaf-b45b-da1937c8e9e5"
      },
      "source": [
        "a = np.array([[1,2],[3,4],[5,6]])\n",
        "print(a[[0,1,2], [0,1,0]])\n",
        "print(np.array([a[0,0], a[1,1], a[2,0]]))"
      ],
      "execution_count": null,
      "outputs": [
        {
          "output_type": "stream",
          "name": "stdout",
          "text": [
            "[1 4 5]\n",
            "[1 4 5]\n"
          ]
        }
      ]
    },
    {
      "cell_type": "code",
      "metadata": {
        "colab": {
          "base_uri": "https://localhost:8080/"
        },
        "id": "uDVWecpnAofC",
        "outputId": "748ed416-4f06-41a4-eb17-0f2c25c4df26"
      },
      "source": [
        "print(a[[0,0],[1,1]])\n",
        "print(np.array([a[0,1], a[0,1]]))"
      ],
      "execution_count": null,
      "outputs": [
        {
          "output_type": "stream",
          "name": "stdout",
          "text": [
            "[2 2]\n",
            "[2 2]\n"
          ]
        }
      ]
    }
  ]
}