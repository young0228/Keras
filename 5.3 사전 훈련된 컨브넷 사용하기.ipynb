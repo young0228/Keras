{
 "cells": [
  {
   "cell_type": "markdown",
   "id": "389911e2",
   "metadata": {
    "id": "d3c95c27"
   },
   "source": [
    "# 1. 특성 추출(Feature Extraction)"
   ]
  },
  {
   "cell_type": "markdown",
   "id": "710c3a06",
   "metadata": {
    "id": "8688ac44"
   },
   "source": [
    "1. 사전에 학습된 네트워크의 표현을 사용하여 새로운 샘플에서 흥미로운 특성을 뽑아내는 것"
   ]
  },
  {
   "cell_type": "markdown",
   "id": "972bf134",
   "metadata": {
    "id": "c672e742"
   },
   "source": [
    "2. 컨브넷: 연속된 합성곱과 풀링 층으로 시작해 완전 연결 분류기로 끝남"
   ]
  },
  {
   "cell_type": "markdown",
   "id": "3b66df7a",
   "metadata": {
    "id": "957b2692"
   },
   "source": [
    "3. 특성 추출은 사전에 훈련된 네트워크의 합성곱 기반 층을 선택하여 새로운 데이터를 통과시키고 그 출력으로 새로운 분류기를 훈련\n",
    "    \n",
    "    3.1 합성곱 층만 재사용 하는 이유: 합성곱 층에 의해 학습된 표현이 일반적이어서 재사용 가능하기 때문"
   ]
  },
  {
   "cell_type": "code",
   "execution_count": null,
   "id": "e2409ce8",
   "metadata": {
    "colab": {
     "background_save": true
    },
    "id": "BAS_wnKmdgQw"
   },
   "outputs": [
    {
     "name": "stdout",
     "output_type": "stream",
     "text": [
      "Mounted at /content/drive\n"
     ]
    }
   ],
   "source": [
    "from google.colab import drive\n",
    "drive.mount('/content/drive')"
   ]
  },
  {
   "cell_type": "code",
   "execution_count": null,
   "id": "e3d280bb",
   "metadata": {
    "colab": {
     "background_save": true
    },
    "id": "6761737f"
   },
   "outputs": [
    {
     "name": "stdout",
     "output_type": "stream",
     "text": [
      "Downloading data from https://storage.googleapis.com/tensorflow/keras-applications/vgg16/vgg16_weights_tf_dim_ordering_tf_kernels_notop.h5\n",
      "58889256/58889256 [==============================] - 3s 0us/step\n"
     ]
    }
   ],
   "source": [
    "# VGG16 Model\n",
    "\n",
    "from keras.applications import VGG16\n",
    "\n",
    "conv_base = VGG16(weights='imagenet',\n",
    "                 include_top = False,\n",
    "                 input_shape = (150, 150, 3))"
   ]
  },
  {
   "cell_type": "code",
   "execution_count": 3,
   "id": "096ce31e",
   "metadata": {
    "colab": {
     "base_uri": "https://localhost:8080/"
    },
    "executionInfo": {
     "elapsed": 24,
     "status": "ok",
     "timestamp": 1674745725855,
     "user": {
      "displayName": "Jiyoung Roh",
      "userId": "17004976314281913358"
     },
     "user_tz": -540
    },
    "id": "b8c1d1d1",
    "outputId": "81ac8b63-3265-4525-d6e2-51be4a72d03e"
   },
   "outputs": [
    {
     "name": "stdout",
     "output_type": "stream",
     "text": [
      "Model: \"vgg16\"\n",
      "_________________________________________________________________\n",
      " Layer (type)                Output Shape              Param #   \n",
      "=================================================================\n",
      " input_1 (InputLayer)        [(None, 150, 150, 3)]     0         \n",
      "                                                                 \n",
      " block1_conv1 (Conv2D)       (None, 150, 150, 64)      1792      \n",
      "                                                                 \n",
      " block1_conv2 (Conv2D)       (None, 150, 150, 64)      36928     \n",
      "                                                                 \n",
      " block1_pool (MaxPooling2D)  (None, 75, 75, 64)        0         \n",
      "                                                                 \n",
      " block2_conv1 (Conv2D)       (None, 75, 75, 128)       73856     \n",
      "                                                                 \n",
      " block2_conv2 (Conv2D)       (None, 75, 75, 128)       147584    \n",
      "                                                                 \n",
      " block2_pool (MaxPooling2D)  (None, 37, 37, 128)       0         \n",
      "                                                                 \n",
      " block3_conv1 (Conv2D)       (None, 37, 37, 256)       295168    \n",
      "                                                                 \n",
      " block3_conv2 (Conv2D)       (None, 37, 37, 256)       590080    \n",
      "                                                                 \n",
      " block3_conv3 (Conv2D)       (None, 37, 37, 256)       590080    \n",
      "                                                                 \n",
      " block3_pool (MaxPooling2D)  (None, 18, 18, 256)       0         \n",
      "                                                                 \n",
      " block4_conv1 (Conv2D)       (None, 18, 18, 512)       1180160   \n",
      "                                                                 \n",
      " block4_conv2 (Conv2D)       (None, 18, 18, 512)       2359808   \n",
      "                                                                 \n",
      " block4_conv3 (Conv2D)       (None, 18, 18, 512)       2359808   \n",
      "                                                                 \n",
      " block4_pool (MaxPooling2D)  (None, 9, 9, 512)         0         \n",
      "                                                                 \n",
      " block5_conv1 (Conv2D)       (None, 9, 9, 512)         2359808   \n",
      "                                                                 \n",
      " block5_conv2 (Conv2D)       (None, 9, 9, 512)         2359808   \n",
      "                                                                 \n",
      " block5_conv3 (Conv2D)       (None, 9, 9, 512)         2359808   \n",
      "                                                                 \n",
      " block5_pool (MaxPooling2D)  (None, 4, 4, 512)         0         \n",
      "                                                                 \n",
      "=================================================================\n",
      "Total params: 14,714,688\n",
      "Trainable params: 14,714,688\n",
      "Non-trainable params: 0\n",
      "_________________________________________________________________\n"
     ]
    }
   ],
   "source": [
    "conv_base.summary()"
   ]
  },
  {
   "cell_type": "markdown",
   "id": "dc96bcf4",
   "metadata": {
    "id": "e2cbf053"
   },
   "source": [
    "## 데이터 증식을 사용하지 않는 빠른 특성 추출"
   ]
  },
  {
   "cell_type": "code",
   "execution_count": 5,
   "id": "5bbc9359",
   "metadata": {
    "colab": {
     "base_uri": "https://localhost:8080/"
    },
    "executionInfo": {
     "elapsed": 1269321,
     "status": "ok",
     "timestamp": 1674747036889,
     "user": {
      "displayName": "Jiyoung Roh",
      "userId": "17004976314281913358"
     },
     "user_tz": -540
    },
    "id": "a868aaf4",
    "outputId": "96fc6843-62b7-4286-c24d-5504ef6ed74d"
   },
   "outputs": [
    {
     "name": "stdout",
     "output_type": "stream",
     "text": [
      "Found 2000 images belonging to 2 classes.\n",
      "1/1 [==============================] - 8s 8s/step\n",
      "1/1 [==============================] - 0s 20ms/step\n",
      "1/1 [==============================] - 0s 20ms/step\n",
      "1/1 [==============================] - 0s 23ms/step\n",
      "1/1 [==============================] - 0s 23ms/step\n",
      "1/1 [==============================] - 0s 19ms/step\n",
      "1/1 [==============================] - 0s 27ms/step\n",
      "1/1 [==============================] - 0s 19ms/step\n",
      "1/1 [==============================] - 0s 18ms/step\n",
      "1/1 [==============================] - 0s 24ms/step\n",
      "1/1 [==============================] - 0s 17ms/step\n",
      "1/1 [==============================] - 0s 24ms/step\n",
      "1/1 [==============================] - 0s 23ms/step\n",
      "1/1 [==============================] - 0s 23ms/step\n",
      "1/1 [==============================] - 0s 23ms/step\n",
      "1/1 [==============================] - 0s 27ms/step\n",
      "1/1 [==============================] - 0s 22ms/step\n",
      "1/1 [==============================] - 0s 17ms/step\n",
      "1/1 [==============================] - 0s 20ms/step\n",
      "1/1 [==============================] - 0s 21ms/step\n",
      "1/1 [==============================] - 0s 17ms/step\n",
      "1/1 [==============================] - 0s 26ms/step\n",
      "1/1 [==============================] - 0s 17ms/step\n",
      "1/1 [==============================] - 0s 17ms/step\n",
      "1/1 [==============================] - 0s 22ms/step\n",
      "1/1 [==============================] - 0s 22ms/step\n",
      "1/1 [==============================] - 0s 18ms/step\n",
      "1/1 [==============================] - 0s 23ms/step\n",
      "1/1 [==============================] - 0s 17ms/step\n",
      "1/1 [==============================] - 0s 19ms/step\n",
      "1/1 [==============================] - 0s 19ms/step\n",
      "1/1 [==============================] - 0s 21ms/step\n",
      "1/1 [==============================] - 0s 20ms/step\n",
      "1/1 [==============================] - 0s 21ms/step\n",
      "1/1 [==============================] - 0s 19ms/step\n",
      "1/1 [==============================] - 0s 18ms/step\n",
      "1/1 [==============================] - 0s 18ms/step\n",
      "1/1 [==============================] - 0s 19ms/step\n",
      "1/1 [==============================] - 0s 25ms/step\n",
      "1/1 [==============================] - 0s 19ms/step\n",
      "1/1 [==============================] - 0s 17ms/step\n",
      "1/1 [==============================] - 0s 22ms/step\n",
      "1/1 [==============================] - 0s 17ms/step\n",
      "1/1 [==============================] - 0s 18ms/step\n",
      "1/1 [==============================] - 0s 17ms/step\n",
      "1/1 [==============================] - 0s 19ms/step\n",
      "1/1 [==============================] - 0s 23ms/step\n",
      "1/1 [==============================] - 0s 23ms/step\n",
      "1/1 [==============================] - 0s 18ms/step\n",
      "1/1 [==============================] - 0s 21ms/step\n",
      "1/1 [==============================] - 0s 22ms/step\n",
      "1/1 [==============================] - 0s 17ms/step\n",
      "1/1 [==============================] - 0s 18ms/step\n",
      "1/1 [==============================] - 0s 17ms/step\n",
      "1/1 [==============================] - 0s 18ms/step\n",
      "1/1 [==============================] - 0s 18ms/step\n",
      "1/1 [==============================] - 0s 24ms/step\n",
      "1/1 [==============================] - 0s 22ms/step\n",
      "1/1 [==============================] - 0s 21ms/step\n",
      "1/1 [==============================] - 0s 22ms/step\n",
      "1/1 [==============================] - 0s 17ms/step\n",
      "1/1 [==============================] - 0s 22ms/step\n",
      "1/1 [==============================] - 0s 18ms/step\n",
      "1/1 [==============================] - 0s 18ms/step\n",
      "1/1 [==============================] - 0s 21ms/step\n",
      "1/1 [==============================] - 0s 19ms/step\n",
      "1/1 [==============================] - 0s 18ms/step\n",
      "1/1 [==============================] - 0s 18ms/step\n",
      "1/1 [==============================] - 0s 18ms/step\n",
      "1/1 [==============================] - 0s 18ms/step\n",
      "1/1 [==============================] - 0s 17ms/step\n",
      "1/1 [==============================] - 0s 17ms/step\n",
      "1/1 [==============================] - 0s 20ms/step\n",
      "1/1 [==============================] - 0s 17ms/step\n",
      "1/1 [==============================] - 0s 23ms/step\n",
      "1/1 [==============================] - 0s 17ms/step\n",
      "1/1 [==============================] - 0s 17ms/step\n",
      "1/1 [==============================] - 0s 18ms/step\n",
      "1/1 [==============================] - 0s 20ms/step\n",
      "1/1 [==============================] - 0s 21ms/step\n",
      "1/1 [==============================] - 0s 17ms/step\n",
      "1/1 [==============================] - 0s 17ms/step\n",
      "1/1 [==============================] - 0s 17ms/step\n",
      "1/1 [==============================] - 0s 18ms/step\n",
      "1/1 [==============================] - 0s 17ms/step\n",
      "1/1 [==============================] - 0s 16ms/step\n",
      "1/1 [==============================] - 0s 17ms/step\n",
      "1/1 [==============================] - 0s 17ms/step\n",
      "1/1 [==============================] - 0s 17ms/step\n",
      "1/1 [==============================] - 0s 17ms/step\n",
      "1/1 [==============================] - 0s 23ms/step\n",
      "1/1 [==============================] - 0s 20ms/step\n",
      "1/1 [==============================] - 0s 23ms/step\n",
      "1/1 [==============================] - 0s 18ms/step\n",
      "1/1 [==============================] - 0s 18ms/step\n",
      "1/1 [==============================] - 0s 18ms/step\n",
      "1/1 [==============================] - 0s 17ms/step\n",
      "1/1 [==============================] - 0s 17ms/step\n",
      "1/1 [==============================] - 0s 17ms/step\n",
      "1/1 [==============================] - 0s 17ms/step\n",
      "Found 1000 images belonging to 2 classes.\n",
      "1/1 [==============================] - 0s 19ms/step\n",
      "1/1 [==============================] - 0s 18ms/step\n",
      "1/1 [==============================] - 0s 17ms/step\n",
      "1/1 [==============================] - 0s 17ms/step\n",
      "1/1 [==============================] - 0s 18ms/step\n",
      "1/1 [==============================] - 0s 27ms/step\n",
      "1/1 [==============================] - 0s 19ms/step\n",
      "1/1 [==============================] - 0s 24ms/step\n",
      "1/1 [==============================] - 0s 24ms/step\n",
      "1/1 [==============================] - 0s 17ms/step\n",
      "1/1 [==============================] - 0s 19ms/step\n",
      "1/1 [==============================] - 0s 19ms/step\n",
      "1/1 [==============================] - 0s 19ms/step\n",
      "1/1 [==============================] - 0s 18ms/step\n",
      "1/1 [==============================] - 0s 18ms/step\n",
      "1/1 [==============================] - 0s 17ms/step\n",
      "1/1 [==============================] - 0s 21ms/step\n",
      "1/1 [==============================] - 0s 19ms/step\n",
      "1/1 [==============================] - 0s 24ms/step\n",
      "1/1 [==============================] - 0s 19ms/step\n",
      "1/1 [==============================] - 0s 27ms/step\n",
      "1/1 [==============================] - 0s 17ms/step\n",
      "1/1 [==============================] - 0s 17ms/step\n",
      "1/1 [==============================] - 0s 17ms/step\n",
      "1/1 [==============================] - 0s 19ms/step\n",
      "1/1 [==============================] - 0s 27ms/step\n",
      "1/1 [==============================] - 0s 18ms/step\n",
      "1/1 [==============================] - 0s 25ms/step\n",
      "1/1 [==============================] - 0s 19ms/step\n",
      "1/1 [==============================] - 0s 22ms/step\n",
      "1/1 [==============================] - 0s 17ms/step\n",
      "1/1 [==============================] - 0s 22ms/step\n",
      "1/1 [==============================] - 0s 23ms/step\n",
      "1/1 [==============================] - 0s 19ms/step\n",
      "1/1 [==============================] - 0s 17ms/step\n",
      "1/1 [==============================] - 0s 23ms/step\n",
      "1/1 [==============================] - 0s 18ms/step\n",
      "1/1 [==============================] - 0s 17ms/step\n",
      "1/1 [==============================] - 0s 24ms/step\n",
      "1/1 [==============================] - 0s 25ms/step\n",
      "1/1 [==============================] - 0s 23ms/step\n",
      "1/1 [==============================] - 0s 26ms/step\n",
      "1/1 [==============================] - 0s 17ms/step\n",
      "1/1 [==============================] - 0s 19ms/step\n",
      "1/1 [==============================] - 0s 20ms/step\n",
      "1/1 [==============================] - 0s 24ms/step\n",
      "1/1 [==============================] - 0s 18ms/step\n",
      "1/1 [==============================] - 0s 18ms/step\n",
      "1/1 [==============================] - 0s 24ms/step\n",
      "1/1 [==============================] - 0s 18ms/step\n",
      "Found 1000 images belonging to 2 classes.\n",
      "1/1 [==============================] - 0s 18ms/step\n",
      "1/1 [==============================] - 0s 19ms/step\n",
      "1/1 [==============================] - 0s 18ms/step\n",
      "1/1 [==============================] - 0s 18ms/step\n",
      "1/1 [==============================] - 0s 23ms/step\n",
      "1/1 [==============================] - 0s 17ms/step\n",
      "1/1 [==============================] - 0s 18ms/step\n",
      "1/1 [==============================] - 0s 21ms/step\n",
      "1/1 [==============================] - 0s 17ms/step\n",
      "1/1 [==============================] - 0s 19ms/step\n",
      "1/1 [==============================] - 0s 17ms/step\n",
      "1/1 [==============================] - 0s 18ms/step\n",
      "1/1 [==============================] - 0s 17ms/step\n",
      "1/1 [==============================] - 0s 17ms/step\n",
      "1/1 [==============================] - 0s 17ms/step\n",
      "1/1 [==============================] - 0s 17ms/step\n",
      "1/1 [==============================] - 0s 17ms/step\n",
      "1/1 [==============================] - 0s 17ms/step\n",
      "1/1 [==============================] - 0s 18ms/step\n",
      "1/1 [==============================] - 0s 18ms/step\n",
      "1/1 [==============================] - 0s 17ms/step\n",
      "1/1 [==============================] - 0s 17ms/step\n",
      "1/1 [==============================] - 0s 17ms/step\n",
      "1/1 [==============================] - 0s 17ms/step\n",
      "1/1 [==============================] - 0s 18ms/step\n",
      "1/1 [==============================] - 0s 19ms/step\n",
      "1/1 [==============================] - 0s 17ms/step\n",
      "1/1 [==============================] - 0s 18ms/step\n",
      "1/1 [==============================] - 0s 17ms/step\n",
      "1/1 [==============================] - 0s 23ms/step\n",
      "1/1 [==============================] - 0s 24ms/step\n",
      "1/1 [==============================] - 0s 17ms/step\n",
      "1/1 [==============================] - 0s 18ms/step\n",
      "1/1 [==============================] - 0s 21ms/step\n",
      "1/1 [==============================] - 0s 18ms/step\n",
      "1/1 [==============================] - 0s 23ms/step\n",
      "1/1 [==============================] - 0s 18ms/step\n",
      "1/1 [==============================] - 0s 17ms/step\n",
      "1/1 [==============================] - 0s 19ms/step\n",
      "1/1 [==============================] - 0s 27ms/step\n",
      "1/1 [==============================] - 0s 16ms/step\n",
      "1/1 [==============================] - 0s 17ms/step\n",
      "1/1 [==============================] - 0s 18ms/step\n",
      "1/1 [==============================] - 0s 18ms/step\n",
      "1/1 [==============================] - 0s 17ms/step\n",
      "1/1 [==============================] - 0s 17ms/step\n",
      "1/1 [==============================] - 0s 22ms/step\n",
      "1/1 [==============================] - 0s 23ms/step\n",
      "1/1 [==============================] - 0s 17ms/step\n",
      "1/1 [==============================] - 0s 20ms/step\n"
     ]
    }
   ],
   "source": [
    "import os\n",
    "import numpy as np\n",
    "from keras.preprocessing.image import ImageDataGenerator\n",
    "base_dir = '/content/drive/MyDrive/DataSets/cat dog/cats_and_dogs_small'\n",
    "train_dir = os.path.join(base_dir, 'train')\n",
    "validation_dir = os.path.join(base_dir, 'validation')\n",
    "test_dir = os.path.join(base_dir, 'test')\n",
    "\n",
    "datagen = ImageDataGenerator(rescale=1./255)\n",
    "batch_size = 20\n",
    "\n",
    "def extract_features(directory, sample_count):\n",
    "    features = np.zeros(shape=(sample_count, 4, 4, 512)) #last layer have (None, 4, 4, 512)\n",
    "    labels = np.zeros(shape=(sample_count))\n",
    "    generator = datagen.flow_from_directory(\n",
    "        directory,\n",
    "        target_size=(150, 150),\n",
    "        batch_size=batch_size,\n",
    "        class_mode='binary')\n",
    "    \n",
    "    i = 0\n",
    "    for inputs_batch, labels_batch in generator:\n",
    "        features_batch = conv_base.predict(inputs_batch)\n",
    "        features[i * batch_size : (i + 1) * batch_size] = features_batch\n",
    "        labels[i * batch_size : (i + 1) * batch_size] = labels_batch\n",
    "        i += 1\n",
    "        if i * batch_size >= sample_count:\n",
    "            break\n",
    "    return features, labels\n",
    "\n",
    "train_features, train_labels = extract_features(train_dir, 2000)\n",
    "validation_features, validation_labels = extract_features(validation_dir, 1000)\n",
    "test_features, test_labels = extract_features(test_dir, 1000)"
   ]
  },
  {
   "cell_type": "code",
   "execution_count": 6,
   "id": "0201db8d",
   "metadata": {
    "executionInfo": {
     "elapsed": 6,
     "status": "ok",
     "timestamp": 1674747036890,
     "user": {
      "displayName": "Jiyoung Roh",
      "userId": "17004976314281913358"
     },
     "user_tz": -540
    },
    "id": "56abc7e7"
   },
   "outputs": [],
   "source": [
    "train_features = np.reshape(train_features, (2000, 4 * 4 * 512))\n",
    "validation_features = np.reshape(validation_features, (1000, 4 * 4 * 512))\n",
    "test_features = np.reshape(test_features, (1000, 4 * 4 * 512))"
   ]
  },
  {
   "cell_type": "code",
   "execution_count": 7,
   "id": "2ccfe6a4",
   "metadata": {
    "colab": {
     "base_uri": "https://localhost:8080/"
    },
    "executionInfo": {
     "elapsed": 14925,
     "status": "ok",
     "timestamp": 1674747051810,
     "user": {
      "displayName": "Jiyoung Roh",
      "userId": "17004976314281913358"
     },
     "user_tz": -540
    },
    "id": "8cf44436",
    "outputId": "dcf3121c-424a-4e2a-ef2b-63afed45b363"
   },
   "outputs": [
    {
     "name": "stdout",
     "output_type": "stream",
     "text": [
      "Epoch 1/30\n",
      "100/100 [==============================] - 1s 6ms/step - loss: 0.6121 - acc: 0.6460 - val_loss: 0.4795 - val_acc: 0.7820\n",
      "Epoch 2/30\n",
      "100/100 [==============================] - 0s 5ms/step - loss: 0.4271 - acc: 0.8235 - val_loss: 0.3690 - val_acc: 0.8620\n",
      "Epoch 3/30\n",
      "100/100 [==============================] - 0s 4ms/step - loss: 0.3534 - acc: 0.8495 - val_loss: 0.3272 - val_acc: 0.8760\n",
      "Epoch 4/30\n",
      "100/100 [==============================] - 0s 4ms/step - loss: 0.3233 - acc: 0.8620 - val_loss: 0.3073 - val_acc: 0.8820\n",
      "Epoch 5/30\n",
      "100/100 [==============================] - 0s 4ms/step - loss: 0.2820 - acc: 0.8895 - val_loss: 0.2913 - val_acc: 0.8830\n",
      "Epoch 6/30\n",
      "100/100 [==============================] - 0s 4ms/step - loss: 0.2631 - acc: 0.8985 - val_loss: 0.2764 - val_acc: 0.8860\n",
      "Epoch 7/30\n",
      "100/100 [==============================] - 0s 5ms/step - loss: 0.2524 - acc: 0.8940 - val_loss: 0.2686 - val_acc: 0.8940\n",
      "Epoch 8/30\n",
      "100/100 [==============================] - 0s 4ms/step - loss: 0.2332 - acc: 0.9060 - val_loss: 0.2709 - val_acc: 0.8880\n",
      "Epoch 9/30\n",
      "100/100 [==============================] - 0s 4ms/step - loss: 0.2210 - acc: 0.9140 - val_loss: 0.2585 - val_acc: 0.8960\n",
      "Epoch 10/30\n",
      "100/100 [==============================] - 0s 5ms/step - loss: 0.2107 - acc: 0.9245 - val_loss: 0.2562 - val_acc: 0.9000\n",
      "Epoch 11/30\n",
      "100/100 [==============================] - 0s 4ms/step - loss: 0.2007 - acc: 0.9290 - val_loss: 0.2539 - val_acc: 0.9000\n",
      "Epoch 12/30\n",
      "100/100 [==============================] - 0s 5ms/step - loss: 0.1981 - acc: 0.9295 - val_loss: 0.2515 - val_acc: 0.8970\n",
      "Epoch 13/30\n",
      "100/100 [==============================] - 0s 4ms/step - loss: 0.1789 - acc: 0.9365 - val_loss: 0.2600 - val_acc: 0.8910\n",
      "Epoch 14/30\n",
      "100/100 [==============================] - 0s 4ms/step - loss: 0.1792 - acc: 0.9320 - val_loss: 0.2502 - val_acc: 0.8980\n",
      "Epoch 15/30\n",
      "100/100 [==============================] - 0s 4ms/step - loss: 0.1638 - acc: 0.9440 - val_loss: 0.2417 - val_acc: 0.8990\n",
      "Epoch 16/30\n",
      "100/100 [==============================] - 0s 5ms/step - loss: 0.1612 - acc: 0.9455 - val_loss: 0.2479 - val_acc: 0.8990\n",
      "Epoch 17/30\n",
      "100/100 [==============================] - 0s 5ms/step - loss: 0.1485 - acc: 0.9535 - val_loss: 0.2481 - val_acc: 0.9010\n",
      "Epoch 18/30\n",
      "100/100 [==============================] - 0s 5ms/step - loss: 0.1496 - acc: 0.9465 - val_loss: 0.2443 - val_acc: 0.9010\n",
      "Epoch 19/30\n",
      "100/100 [==============================] - 0s 5ms/step - loss: 0.1413 - acc: 0.9540 - val_loss: 0.2441 - val_acc: 0.9000\n",
      "Epoch 20/30\n",
      "100/100 [==============================] - 1s 5ms/step - loss: 0.1382 - acc: 0.9530 - val_loss: 0.2412 - val_acc: 0.8960\n",
      "Epoch 21/30\n",
      "100/100 [==============================] - 0s 4ms/step - loss: 0.1278 - acc: 0.9570 - val_loss: 0.2400 - val_acc: 0.9060\n",
      "Epoch 22/30\n",
      "100/100 [==============================] - 0s 5ms/step - loss: 0.1284 - acc: 0.9525 - val_loss: 0.2469 - val_acc: 0.8990\n",
      "Epoch 23/30\n",
      "100/100 [==============================] - 0s 4ms/step - loss: 0.1222 - acc: 0.9585 - val_loss: 0.2391 - val_acc: 0.8970\n",
      "Epoch 24/30\n",
      "100/100 [==============================] - 0s 4ms/step - loss: 0.1143 - acc: 0.9625 - val_loss: 0.2378 - val_acc: 0.8960\n",
      "Epoch 25/30\n",
      "100/100 [==============================] - 0s 5ms/step - loss: 0.1133 - acc: 0.9650 - val_loss: 0.2436 - val_acc: 0.9010\n",
      "Epoch 26/30\n",
      "100/100 [==============================] - 0s 5ms/step - loss: 0.1084 - acc: 0.9655 - val_loss: 0.2390 - val_acc: 0.8990\n",
      "Epoch 27/30\n",
      "100/100 [==============================] - 0s 5ms/step - loss: 0.1028 - acc: 0.9645 - val_loss: 0.2452 - val_acc: 0.8990\n",
      "Epoch 28/30\n",
      "100/100 [==============================] - 0s 5ms/step - loss: 0.1013 - acc: 0.9675 - val_loss: 0.2452 - val_acc: 0.8980\n",
      "Epoch 29/30\n",
      "100/100 [==============================] - 0s 4ms/step - loss: 0.0949 - acc: 0.9700 - val_loss: 0.2398 - val_acc: 0.9030\n",
      "Epoch 30/30\n",
      "100/100 [==============================] - 0s 4ms/step - loss: 0.0900 - acc: 0.9725 - val_loss: 0.2485 - val_acc: 0.9000\n"
     ]
    }
   ],
   "source": [
    "from keras import models\n",
    "from keras import layers\n",
    "from keras import optimizers\n",
    "\n",
    "model = models.Sequential()\n",
    "model.add(layers.Dense(256, activation='relu', input_dim = 4 * 4 * 512))\n",
    "model.add(layers.Dropout(0.5))\n",
    "model.add(layers.Dense(1, activation = 'sigmoid'))\n",
    "\n",
    "model.compile(optimizer = optimizers.RMSprop(learning_rate=2e-5), loss = 'binary_crossentropy', metrics=['acc'])\n",
    "\n",
    "history = model.fit(train_features, train_labels, epochs=30, batch_size=20, validation_data = (validation_features, validation_labels))"
   ]
  },
  {
   "cell_type": "code",
   "execution_count": 8,
   "id": "b535f236",
   "metadata": {
    "colab": {
     "base_uri": "https://localhost:8080/",
     "height": 545
    },
    "executionInfo": {
     "elapsed": 14,
     "status": "ok",
     "timestamp": 1674747051811,
     "user": {
      "displayName": "Jiyoung Roh",
      "userId": "17004976314281913358"
     },
     "user_tz": -540
    },
    "id": "dd2d3887",
    "outputId": "f3245ee5-3a3f-4886-ef28-e19fc72804e5"
   },
   "outputs": [
    {
     "data": {
      "image/png": "[encoded data removed]",
      "text/plain": [
       "<Figure size 432x288 with 1 Axes>"
      ]
     },
     "metadata": {},
     "output_type": "display_data"
    },
    {
     "data": {
      "image/png": "[encoded data removed]",
      "text/plain": [
       "<Figure size 432x288 with 1 Axes>"
      ]
     },
     "metadata": {},
     "output_type": "display_data"
    }
   ],
   "source": [
    "import matplotlib.pyplot as plt\n",
    "\n",
    "acc = history.history['acc']\n",
    "val_acc = history.history['val_acc']\n",
    "loss = history.history['loss']\n",
    "val_loss = history.history['val_loss']\n",
    "\n",
    "epochs = range(1, len(acc) + 1)\n",
    "\n",
    "plt.plot(epochs, acc, 'bo', label = 'Training acc')\n",
    "plt.plot(epochs, val_acc, 'b', label = 'Validation acc')\n",
    "plt.title('Training and Validation accuracy')\n",
    "plt.legend()\n",
    "\n",
    "plt.figure()\n",
    "\n",
    "plt.plot(epochs, loss, 'bo', label = 'Training loss')\n",
    "plt.plot(epochs, val_loss, 'b', label = 'Validation loss')\n",
    "plt.title('Training and Validation Loss')\n",
    "plt.legend()\n",
    "\n",
    "plt.show()"
   ]
  },
  {
   "cell_type": "markdown",
   "id": "2e527af3",
   "metadata": {
    "id": "30c66ab8"
   },
   "source": [
    "기존 모델보다는 훨씬 좋아졌으나 과대적합을 피하지 못함, 데이터 증식을 사용하지 않아서임"
   ]
  },
  {
   "cell_type": "markdown",
   "id": "dd752edf",
   "metadata": {
    "id": "b7681bd4"
   },
   "source": [
    "## 2. 데이터 증식을 사용한 특성 추출"
   ]
  },
  {
   "cell_type": "code",
   "execution_count": 9,
   "id": "3edfef03",
   "metadata": {
    "executionInfo": {
     "elapsed": 801,
     "status": "ok",
     "timestamp": 1674747052607,
     "user": {
      "displayName": "Jiyoung Roh",
      "userId": "17004976314281913358"
     },
     "user_tz": -540
    },
    "id": "fe53457c"
   },
   "outputs": [],
   "source": [
    "from keras import models\n",
    "from keras import layers\n",
    "\n",
    "model = models.Sequential()\n",
    "model.add(conv_base)\n",
    "model.add(layers.Flatten())\n",
    "model.add(layers.Dense(256, activation='relu'))\n",
    "model.add(layers.Dense(1, activation='sigmoid'))"
   ]
  },
  {
   "cell_type": "code",
   "execution_count": 10,
   "id": "f3c867fb",
   "metadata": {
    "colab": {
     "base_uri": "https://localhost:8080/"
    },
    "executionInfo": {
     "elapsed": 10,
     "status": "ok",
     "timestamp": 1674747052607,
     "user": {
      "displayName": "Jiyoung Roh",
      "userId": "17004976314281913358"
     },
     "user_tz": -540
    },
    "id": "d19d98f2",
    "outputId": "a93b01ba-20b9-405e-cd62-54a5fcb710d5"
   },
   "outputs": [
    {
     "name": "stdout",
     "output_type": "stream",
     "text": [
      "Model: \"sequential_1\"\n",
      "_________________________________________________________________\n",
      " Layer (type)                Output Shape              Param #   \n",
      "=================================================================\n",
      " vgg16 (Functional)          (None, 4, 4, 512)         14714688  \n",
      "                                                                 \n",
      " flatten (Flatten)           (None, 8192)              0         \n",
      "                                                                 \n",
      " dense_2 (Dense)             (None, 256)               2097408   \n",
      "                                                                 \n",
      " dense_3 (Dense)             (None, 1)                 257       \n",
      "                                                                 \n",
      "=================================================================\n",
      "Total params: 16,812,353\n",
      "Trainable params: 16,812,353\n",
      "Non-trainable params: 0\n",
      "_________________________________________________________________\n"
     ]
    }
   ],
   "source": [
    "model.summary()"
   ]
  },
  {
   "cell_type": "markdown",
   "id": "f9187e60",
   "metadata": {
    "id": "6a8564b4"
   },
   "source": []
  },
  {
   "cell_type": "code",
   "execution_count": 11,
   "id": "85a3fe4d",
   "metadata": {
    "colab": {
     "base_uri": "https://localhost:8080/"
    },
    "executionInfo": {
     "elapsed": 7,
     "status": "ok",
     "timestamp": 1674747052607,
     "user": {
      "displayName": "Jiyoung Roh",
      "userId": "17004976314281913358"
     },
     "user_tz": -540
    },
    "id": "ec97a7b6",
    "outputId": "933d806b-7347-481b-903a-48163c1bc147"
   },
   "outputs": [
    {
     "name": "stdout",
     "output_type": "stream",
     "text": [
      "conv_base를 동결하기 전 훈련되는 가중치의 수:  30\n",
      "conv_base를 동결한 후 훈련되는 가중치의 수:  4\n"
     ]
    }
   ],
   "source": [
    "print('conv_base를 동결하기 전 훈련되는 가중치의 수: ', len(model.trainable_weights))\n",
    "conv_base.trainable = False #network freezing\n",
    "print('conv_base를 동결한 후 훈련되는 가중치의 수: ', len(model.trainable_weights))"
   ]
  },
  {
   "cell_type": "code",
   "execution_count": 12,
   "id": "c9c64ada",
   "metadata": {
    "executionInfo": {
     "elapsed": 5,
     "status": "ok",
     "timestamp": 1674747052607,
     "user": {
      "displayName": "Jiyoung Roh",
      "userId": "17004976314281913358"
     },
     "user_tz": -540
    },
    "id": "7e1fdf0c"
   },
   "outputs": [],
   "source": [
    "import tensorflow as tf"
   ]
  },
  {
   "cell_type": "code",
   "execution_count": 13,
   "id": "23c4c474",
   "metadata": {
    "colab": {
     "base_uri": "https://localhost:8080/"
    },
    "executionInfo": {
     "elapsed": 6,
     "status": "ok",
     "timestamp": 1674747052608,
     "user": {
      "displayName": "Jiyoung Roh",
      "userId": "17004976314281913358"
     },
     "user_tz": -540
    },
    "id": "8da28eb8",
    "outputId": "96d0bc05-0fcf-4275-fcf3-b45318ff823a"
   },
   "outputs": [
    {
     "name": "stderr",
     "output_type": "stream",
     "text": [
      "WARNING:tensorflow:From <ipython-input-13-17bb7203622b>:1: is_gpu_available (from tensorflow.python.framework.test_util) is deprecated and will be removed in a future version.\n",
      "Instructions for updating:\n",
      "Use `tf.config.list_physical_devices('GPU')` instead.\n"
     ]
    },
    {
     "data": {
      "text/plain": [
       "True"
      ]
     },
     "execution_count": 13,
     "metadata": {},
     "output_type": "execute_result"
    }
   ],
   "source": [
    "tf.test.is_gpu_available()"
   ]
  },
  {
   "cell_type": "code",
   "execution_count": 14,
   "id": "526317b2",
   "metadata": {
    "colab": {
     "base_uri": "https://localhost:8080/"
    },
    "executionInfo": {
     "elapsed": 807214,
     "status": "ok",
     "timestamp": 1674747859817,
     "user": {
      "displayName": "Jiyoung Roh",
      "userId": "17004976314281913358"
     },
     "user_tz": -540
    },
    "id": "5c4ad476",
    "outputId": "9190b226-749d-4bf5-af4c-fc3155ff2e0d"
   },
   "outputs": [
    {
     "name": "stdout",
     "output_type": "stream",
     "text": [
      "Found 2000 images belonging to 2 classes.\n",
      "Found 1000 images belonging to 2 classes.\n"
     ]
    },
    {
     "name": "stderr",
     "output_type": "stream",
     "text": [
      "<ipython-input-14-7048468275f6>:29: UserWarning: `Model.fit_generator` is deprecated and will be removed in a future version. Please use `Model.fit`, which supports generators.\n",
      "  history = model.fit_generator(train_generator,\n"
     ]
    },
    {
     "name": "stdout",
     "output_type": "stream",
     "text": [
      "Epoch 1/30\n",
      "100/100 - 24s - loss: 0.5635 - acc: 0.7175 - val_loss: 0.4278 - val_acc: 0.8430 - 24s/epoch - 238ms/step\n",
      "Epoch 2/30\n",
      "100/100 - 23s - loss: 0.4223 - acc: 0.8285 - val_loss: 0.3435 - val_acc: 0.8650 - 23s/epoch - 230ms/step\n",
      "Epoch 3/30\n",
      "100/100 - 23s - loss: 0.3642 - acc: 0.8510 - val_loss: 0.3174 - val_acc: 0.8770 - 23s/epoch - 226ms/step\n",
      "Epoch 4/30\n",
      "100/100 - 23s - loss: 0.3336 - acc: 0.8660 - val_loss: 0.2823 - val_acc: 0.8880 - 23s/epoch - 228ms/step\n",
      "Epoch 5/30\n",
      "100/100 - 23s - loss: 0.3040 - acc: 0.8725 - val_loss: 0.2699 - val_acc: 0.8890 - 23s/epoch - 229ms/step\n",
      "Epoch 6/30\n",
      "100/100 - 23s - loss: 0.2958 - acc: 0.8795 - val_loss: 0.2575 - val_acc: 0.9020 - 23s/epoch - 227ms/step\n",
      "Epoch 7/30\n",
      "100/100 - 23s - loss: 0.2852 - acc: 0.8795 - val_loss: 0.2518 - val_acc: 0.9020 - 23s/epoch - 227ms/step\n",
      "Epoch 8/30\n",
      "100/100 - 24s - loss: 0.2688 - acc: 0.8900 - val_loss: 0.2461 - val_acc: 0.9050 - 24s/epoch - 238ms/step\n",
      "Epoch 9/30\n",
      "100/100 - 22s - loss: 0.2614 - acc: 0.8960 - val_loss: 0.2431 - val_acc: 0.9030 - 22s/epoch - 223ms/step\n",
      "Epoch 10/30\n",
      "100/100 - 23s - loss: 0.2578 - acc: 0.8890 - val_loss: 0.2379 - val_acc: 0.9070 - 23s/epoch - 226ms/step\n",
      "Epoch 11/30\n",
      "100/100 - 23s - loss: 0.2446 - acc: 0.9000 - val_loss: 0.2357 - val_acc: 0.9100 - 23s/epoch - 227ms/step\n",
      "Epoch 12/30\n",
      "100/100 - 23s - loss: 0.2398 - acc: 0.9095 - val_loss: 0.2378 - val_acc: 0.9000 - 23s/epoch - 225ms/step\n",
      "Epoch 13/30\n",
      "100/100 - 23s - loss: 0.2382 - acc: 0.9055 - val_loss: 0.2409 - val_acc: 0.8950 - 23s/epoch - 229ms/step\n",
      "Epoch 14/30\n",
      "100/100 - 23s - loss: 0.2308 - acc: 0.9090 - val_loss: 0.2374 - val_acc: 0.9010 - 23s/epoch - 225ms/step\n",
      "Epoch 15/30\n",
      "100/100 - 23s - loss: 0.2276 - acc: 0.9105 - val_loss: 0.2289 - val_acc: 0.9080 - 23s/epoch - 227ms/step\n",
      "Epoch 16/30\n",
      "100/100 - 23s - loss: 0.2198 - acc: 0.9080 - val_loss: 0.2416 - val_acc: 0.9040 - 23s/epoch - 227ms/step\n",
      "Epoch 17/30\n",
      "100/100 - 22s - loss: 0.2236 - acc: 0.9150 - val_loss: 0.2315 - val_acc: 0.9110 - 22s/epoch - 224ms/step\n",
      "Epoch 18/30\n",
      "100/100 - 22s - loss: 0.2179 - acc: 0.9115 - val_loss: 0.2279 - val_acc: 0.9090 - 22s/epoch - 224ms/step\n",
      "Epoch 19/30\n",
      "100/100 - 23s - loss: 0.2068 - acc: 0.9220 - val_loss: 0.2296 - val_acc: 0.9090 - 23s/epoch - 234ms/step\n",
      "Epoch 20/30\n",
      "100/100 - 22s - loss: 0.2144 - acc: 0.9155 - val_loss: 0.2302 - val_acc: 0.9090 - 22s/epoch - 222ms/step\n",
      "Epoch 21/30\n",
      "100/100 - 22s - loss: 0.2064 - acc: 0.9180 - val_loss: 0.2297 - val_acc: 0.9040 - 22s/epoch - 221ms/step\n",
      "Epoch 22/30\n",
      "100/100 - 22s - loss: 0.2021 - acc: 0.9195 - val_loss: 0.2266 - val_acc: 0.9120 - 22s/epoch - 221ms/step\n",
      "Epoch 23/30\n",
      "100/100 - 22s - loss: 0.2041 - acc: 0.9200 - val_loss: 0.2282 - val_acc: 0.9110 - 22s/epoch - 222ms/step\n",
      "Epoch 24/30\n",
      "100/100 - 22s - loss: 0.2088 - acc: 0.9135 - val_loss: 0.2250 - val_acc: 0.9060 - 22s/epoch - 220ms/step\n",
      "Epoch 25/30\n",
      "100/100 - 22s - loss: 0.1918 - acc: 0.9220 - val_loss: 0.2293 - val_acc: 0.9100 - 22s/epoch - 221ms/step\n",
      "Epoch 26/30\n",
      "100/100 - 22s - loss: 0.1853 - acc: 0.9300 - val_loss: 0.2510 - val_acc: 0.8950 - 22s/epoch - 222ms/step\n",
      "Epoch 27/30\n",
      "100/100 - 22s - loss: 0.1955 - acc: 0.9260 - val_loss: 0.2249 - val_acc: 0.9070 - 22s/epoch - 221ms/step\n",
      "Epoch 28/30\n",
      "100/100 - 22s - loss: 0.1886 - acc: 0.9285 - val_loss: 0.2258 - val_acc: 0.9090 - 22s/epoch - 221ms/step\n",
      "Epoch 29/30\n",
      "100/100 - 22s - loss: 0.1961 - acc: 0.9230 - val_loss: 0.2365 - val_acc: 0.9070 - 22s/epoch - 221ms/step\n",
      "Epoch 30/30\n",
      "100/100 - 22s - loss: 0.1910 - acc: 0.9250 - val_loss: 0.2240 - val_acc: 0.9120 - 22s/epoch - 223ms/step\n"
     ]
    }
   ],
   "source": [
    "from keras.preprocessing.image import ImageDataGenerator\n",
    "from keras import optimizers\n",
    "\n",
    "train_datagen = ImageDataGenerator(rescale=1./255, \n",
    "                                  rotation_range=20,\n",
    "                                  width_shift_range=0.1,\n",
    "                                  height_shift_range=0.1,\n",
    "                                  shear_range=0.1,\n",
    "                                  zoom_range=0.1,\n",
    "                                  horizontal_flip=True,\n",
    "                                  fill_mode='nearest')\n",
    "\n",
    "test_datagen = ImageDataGenerator(rescale=1./255)\n",
    "\n",
    "train_generator = train_datagen.flow_from_directory(\n",
    "            train_dir,\n",
    "            target_size=(150,150),\n",
    "            batch_size=20,\n",
    "            class_mode='binary')\n",
    "\n",
    "validation_generator = test_datagen.flow_from_directory(\n",
    "            validation_dir,\n",
    "            target_size=(150,150),\n",
    "            batch_size=20,\n",
    "            class_mode='binary')\n",
    "\n",
    "model.compile(loss='binary_crossentropy', optimizer=optimizers.RMSprop(learning_rate=2e-5), metrics=['acc'])\n",
    "\n",
    "history = model.fit_generator(train_generator,\n",
    "                             steps_per_epoch=100,\n",
    "                             epochs=30,\n",
    "                             validation_data=validation_generator,\n",
    "                             validation_steps=50,\n",
    "                             verbose=2)"
   ]
  },
  {
   "cell_type": "code",
   "execution_count": 15,
   "id": "e999ea4b",
   "metadata": {
    "colab": {
     "base_uri": "https://localhost:8080/",
     "height": 545
    },
    "executionInfo": {
     "elapsed": 7,
     "status": "ok",
     "timestamp": 1674747859818,
     "user": {
      "displayName": "Jiyoung Roh",
      "userId": "17004976314281913358"
     },
     "user_tz": -540
    },
    "id": "c7c3a1d8",
    "outputId": "92a2a7f4-197c-441b-a5d6-092618873071"
   },
   "outputs": [
    {
     "data": {
      "image/png": "[encoded data removed]",
      "text/plain": [
       "<Figure size 432x288 with 1 Axes>"
      ]
     },
     "metadata": {},
     "output_type": "display_data"
    },
    {
     "data": {
      "image/png": "[encoded data removed]",
      "text/plain": [
       "<Figure size 432x288 with 1 Axes>"
      ]
     },
     "metadata": {},
     "output_type": "display_data"
    }
   ],
   "source": [
    "acc = history.history['acc']\n",
    "val_acc = history.history['val_acc']\n",
    "loss = history.history['loss']\n",
    "val_loss = history.history['val_loss']\n",
    "\n",
    "epochs = range(1, len(acc) + 1)\n",
    "\n",
    "plt.plot(epochs, acc, 'bo', label = 'Training acc')\n",
    "plt.plot(epochs, val_acc, 'b', label = 'Validation acc')\n",
    "plt.title('Training and Validation accuracy')\n",
    "plt.legend()\n",
    "\n",
    "plt.figure()\n",
    "\n",
    "plt.plot(epochs, loss, 'bo', label = 'Training loss')\n",
    "plt.plot(epochs, val_loss, 'b', label = 'Validation loss')\n",
    "plt.title('Training and Validation Loss')\n",
    "plt.legend()\n",
    "\n",
    "plt.show()"
   ]
  },
  {
   "cell_type": "markdown",
   "id": "ae07567f",
   "metadata": {
    "id": "d21c4de6"
   },
   "source": [
    "## 미세 조정"
   ]
  },
  {
   "cell_type": "markdown",
   "id": "4ecd4792",
   "metadata": {
    "id": "e4x6DZG6pJ-z"
   },
   "source": [
    "미세 조정은 특성 추출에 사용했던 동결 모델의 상위 층 몇 개를 동결에서 해제하고 모델에 새로 추가한 층과 함께 훈련하는 것, 주어진 문제에 조금 더 밀접하게 재사용 모델의 표현을 일부 조정하기 때문에 미세 조정이라 불림"
   ]
  },
  {
   "cell_type": "markdown",
   "id": "0ebd8859",
   "metadata": {
    "id": "nICfXsgapvcX"
   },
   "source": [
    "네트워크 미세 조정 과정\n",
    "\n",
    "1. 사전에 훈련된 기반 네트워크 위에 새로운 네트워크를 추가\n",
    "2. 기반 네트워크를 동결\n",
    "3. 새로 추가한 네트워크를 훈련\n",
    "4. 기반 네트워크에서 일부 층의 동결을 해제\n",
    "5. 동결을 해제한 층과 새로 추가한 층을 함께 훈련"
   ]
  },
  {
   "cell_type": "code",
   "execution_count": 16,
   "id": "33abe1f2",
   "metadata": {
    "colab": {
     "base_uri": "https://localhost:8080/"
    },
    "executionInfo": {
     "elapsed": 701,
     "status": "ok",
     "timestamp": 1674747896608,
     "user": {
      "displayName": "Jiyoung Roh",
      "userId": "17004976314281913358"
     },
     "user_tz": -540
    },
    "id": "57c054e7",
    "outputId": "4db3e1c9-c1f9-4985-de1c-561a3298f488"
   },
   "outputs": [
    {
     "name": "stdout",
     "output_type": "stream",
     "text": [
      "Model: \"vgg16\"\n",
      "_________________________________________________________________\n",
      " Layer (type)                Output Shape              Param #   \n",
      "=================================================================\n",
      " input_1 (InputLayer)        [(None, 150, 150, 3)]     0         \n",
      "                                                                 \n",
      " block1_conv1 (Conv2D)       (None, 150, 150, 64)      1792      \n",
      "                                                                 \n",
      " block1_conv2 (Conv2D)       (None, 150, 150, 64)      36928     \n",
      "                                                                 \n",
      " block1_pool (MaxPooling2D)  (None, 75, 75, 64)        0         \n",
      "                                                                 \n",
      " block2_conv1 (Conv2D)       (None, 75, 75, 128)       73856     \n",
      "                                                                 \n",
      " block2_conv2 (Conv2D)       (None, 75, 75, 128)       147584    \n",
      "                                                                 \n",
      " block2_pool (MaxPooling2D)  (None, 37, 37, 128)       0         \n",
      "                                                                 \n",
      " block3_conv1 (Conv2D)       (None, 37, 37, 256)       295168    \n",
      "                                                                 \n",
      " block3_conv2 (Conv2D)       (None, 37, 37, 256)       590080    \n",
      "                                                                 \n",
      " block3_conv3 (Conv2D)       (None, 37, 37, 256)       590080    \n",
      "                                                                 \n",
      " block3_pool (MaxPooling2D)  (None, 18, 18, 256)       0         \n",
      "                                                                 \n",
      " block4_conv1 (Conv2D)       (None, 18, 18, 512)       1180160   \n",
      "                                                                 \n",
      " block4_conv2 (Conv2D)       (None, 18, 18, 512)       2359808   \n",
      "                                                                 \n",
      " block4_conv3 (Conv2D)       (None, 18, 18, 512)       2359808   \n",
      "                                                                 \n",
      " block4_pool (MaxPooling2D)  (None, 9, 9, 512)         0         \n",
      "                                                                 \n",
      " block5_conv1 (Conv2D)       (None, 9, 9, 512)         2359808   \n",
      "                                                                 \n",
      " block5_conv2 (Conv2D)       (None, 9, 9, 512)         2359808   \n",
      "                                                                 \n",
      " block5_conv3 (Conv2D)       (None, 9, 9, 512)         2359808   \n",
      "                                                                 \n",
      " block5_pool (MaxPooling2D)  (None, 4, 4, 512)         0         \n",
      "                                                                 \n",
      "=================================================================\n",
      "Total params: 14,714,688\n",
      "Trainable params: 0\n",
      "Non-trainable params: 14,714,688\n",
      "_________________________________________________________________\n"
     ]
    }
   ],
   "source": [
    "conv_base.summary()"
   ]
  },
  {
   "cell_type": "code",
   "execution_count": 17,
   "id": "fc4c498f",
   "metadata": {
    "executionInfo": {
     "elapsed": 1368,
     "status": "ok",
     "timestamp": 1674747904641,
     "user": {
      "displayName": "Jiyoung Roh",
      "userId": "17004976314281913358"
     },
     "user_tz": -540
    },
    "id": "_HTKExmTqOC7"
   },
   "outputs": [],
   "source": [
    "#기반 네트워크에서 일부 층의 동결을 해제, 여기서는 block1부터 block4까지 동결, block5가 학습 대상\n",
    "conv_base.trainable = True\n",
    "\n",
    "set_trainable = False\n",
    "for layer in conv_base.layers:\n",
    "  if layer.name == 'block5_conv1':\n",
    "    set_trainable = True\n",
    "  if set_trainable:\n",
    "    layer.trainable = True\n",
    "  else:\n",
    "    layer.trainable = False"
   ]
  },
  {
   "cell_type": "code",
   "execution_count": null,
   "id": "087b5e21",
   "metadata": {
    "colab": {
     "base_uri": "https://localhost:8080/"
    },
    "id": "ZF_m2ftYrOi1",
    "outputId": "f6ecf20c-61b0-4e5f-fcdf-b0b1b4f6e13c"
   },
   "outputs": [
    {
     "name": "stdout",
     "output_type": "stream",
     "text": [
      "Epoch 1/100\n"
     ]
    },
    {
     "name": "stderr",
     "output_type": "stream",
     "text": [
      "<ipython-input-18-4dde35ff574c>:4: UserWarning: `Model.fit_generator` is deprecated and will be removed in a future version. Please use `Model.fit`, which supports generators.\n",
      "  histroy = model.fit_generator(train_generator,\n"
     ]
    },
    {
     "name": "stdout",
     "output_type": "stream",
     "text": [
      "100/100 [==============================] - 26s 237ms/step - loss: 0.1903 - acc: 0.9235 - val_loss: 0.2481 - val_acc: 0.9030\n",
      "Epoch 2/100\n",
      "100/100 [==============================] - 24s 236ms/step - loss: 0.1606 - acc: 0.9370 - val_loss: 0.2111 - val_acc: 0.9170\n",
      "Epoch 3/100\n",
      "100/100 [==============================] - 24s 239ms/step - loss: 0.1409 - acc: 0.9435 - val_loss: 0.2071 - val_acc: 0.9200\n",
      "Epoch 4/100\n",
      "100/100 [==============================] - 23s 233ms/step - loss: 0.1255 - acc: 0.9485 - val_loss: 0.2043 - val_acc: 0.9230\n",
      "Epoch 5/100\n",
      "100/100 [==============================] - 23s 233ms/step - loss: 0.1002 - acc: 0.9565 - val_loss: 0.2123 - val_acc: 0.9140\n",
      "Epoch 6/100\n",
      "100/100 [==============================] - 23s 235ms/step - loss: 0.0934 - acc: 0.9635 - val_loss: 0.2479 - val_acc: 0.9140\n",
      "Epoch 7/100\n",
      "100/100 [==============================] - 23s 233ms/step - loss: 0.0863 - acc: 0.9705 - val_loss: 0.2051 - val_acc: 0.9300\n",
      "Epoch 8/100\n",
      "100/100 [==============================] - 23s 232ms/step - loss: 0.0684 - acc: 0.9765 - val_loss: 0.2281 - val_acc: 0.9160\n",
      "Epoch 9/100\n",
      "100/100 [==============================] - 23s 232ms/step - loss: 0.0690 - acc: 0.9720 - val_loss: 0.2077 - val_acc: 0.9250\n",
      "Epoch 10/100\n",
      "100/100 [==============================] - 25s 247ms/step - loss: 0.0586 - acc: 0.9795 - val_loss: 0.2128 - val_acc: 0.9210\n",
      "Epoch 11/100\n",
      "100/100 [==============================] - 24s 235ms/step - loss: 0.0619 - acc: 0.9780 - val_loss: 0.2208 - val_acc: 0.9240\n",
      "Epoch 12/100\n",
      "100/100 [==============================] - 23s 233ms/step - loss: 0.0484 - acc: 0.9825 - val_loss: 0.2199 - val_acc: 0.9260\n",
      "Epoch 13/100\n",
      "100/100 [==============================] - 24s 237ms/step - loss: 0.0401 - acc: 0.9840 - val_loss: 0.2209 - val_acc: 0.9270\n",
      "Epoch 14/100\n",
      "100/100 [==============================] - 23s 233ms/step - loss: 0.0377 - acc: 0.9860 - val_loss: 0.2149 - val_acc: 0.9330\n",
      "Epoch 15/100\n",
      "100/100 [==============================] - 23s 232ms/step - loss: 0.0355 - acc: 0.9895 - val_loss: 0.2279 - val_acc: 0.9330\n",
      "Epoch 16/100\n",
      "100/100 [==============================] - 23s 234ms/step - loss: 0.0317 - acc: 0.9890 - val_loss: 0.4173 - val_acc: 0.8920\n",
      "Epoch 17/100\n",
      "100/100 [==============================] - 23s 234ms/step - loss: 0.0257 - acc: 0.9910 - val_loss: 0.2293 - val_acc: 0.9310\n",
      "Epoch 18/100\n",
      "100/100 [==============================] - 23s 232ms/step - loss: 0.0271 - acc: 0.9895 - val_loss: 0.2308 - val_acc: 0.9300\n",
      "Epoch 19/100\n",
      "100/100 [==============================] - 24s 237ms/step - loss: 0.0322 - acc: 0.9880 - val_loss: 0.2291 - val_acc: 0.9270\n",
      "Epoch 20/100\n",
      "100/100 [==============================] - 25s 248ms/step - loss: 0.0237 - acc: 0.9930 - val_loss: 0.2131 - val_acc: 0.9340\n",
      "Epoch 21/100\n",
      "100/100 [==============================] - 24s 236ms/step - loss: 0.0275 - acc: 0.9890 - val_loss: 0.2287 - val_acc: 0.9340\n",
      "Epoch 22/100\n",
      "100/100 [==============================] - 23s 235ms/step - loss: 0.0240 - acc: 0.9920 - val_loss: 0.2321 - val_acc: 0.9280\n",
      "Epoch 23/100\n",
      "100/100 [==============================] - 23s 233ms/step - loss: 0.0157 - acc: 0.9940 - val_loss: 0.2989 - val_acc: 0.9190\n",
      "Epoch 24/100\n",
      "100/100 [==============================] - 24s 236ms/step - loss: 0.0189 - acc: 0.9935 - val_loss: 0.2402 - val_acc: 0.9430\n",
      "Epoch 25/100\n",
      "100/100 [==============================] - 23s 234ms/step - loss: 0.0135 - acc: 0.9960 - val_loss: 0.2481 - val_acc: 0.9330\n",
      "Epoch 26/100\n",
      "100/100 [==============================] - 24s 238ms/step - loss: 0.0124 - acc: 0.9965 - val_loss: 0.2648 - val_acc: 0.9300\n",
      "Epoch 27/100\n",
      "100/100 [==============================] - 23s 233ms/step - loss: 0.0135 - acc: 0.9950 - val_loss: 0.2554 - val_acc: 0.9380\n",
      "Epoch 28/100\n",
      "100/100 [==============================] - 23s 232ms/step - loss: 0.0085 - acc: 0.9985 - val_loss: 0.2557 - val_acc: 0.9390\n",
      "Epoch 29/100\n",
      "100/100 [==============================] - 23s 232ms/step - loss: 0.0174 - acc: 0.9965 - val_loss: 0.2824 - val_acc: 0.9290\n",
      "Epoch 30/100\n",
      "100/100 [==============================] - 23s 234ms/step - loss: 0.0136 - acc: 0.9950 - val_loss: 0.2460 - val_acc: 0.9360\n",
      "Epoch 31/100\n",
      "100/100 [==============================] - 24s 241ms/step - loss: 0.0113 - acc: 0.9960 - val_loss: 0.2848 - val_acc: 0.9220\n",
      "Epoch 32/100\n",
      "100/100 [==============================] - 24s 241ms/step - loss: 0.0096 - acc: 0.9970 - val_loss: 0.2908 - val_acc: 0.9290\n",
      "Epoch 33/100\n",
      "100/100 [==============================] - 24s 242ms/step - loss: 0.0143 - acc: 0.9960 - val_loss: 0.2514 - val_acc: 0.9410\n",
      "Epoch 34/100\n",
      "100/100 [==============================] - 24s 238ms/step - loss: 0.0151 - acc: 0.9945 - val_loss: 0.2555 - val_acc: 0.9340\n",
      "Epoch 35/100\n",
      "100/100 [==============================] - 24s 238ms/step - loss: 0.0042 - acc: 0.9995 - val_loss: 0.2810 - val_acc: 0.9340\n",
      "Epoch 36/100\n",
      "100/100 [==============================] - 24s 239ms/step - loss: 0.0094 - acc: 0.9970 - val_loss: 0.2887 - val_acc: 0.9380\n",
      "Epoch 37/100\n",
      "100/100 [==============================] - 24s 241ms/step - loss: 0.0149 - acc: 0.9950 - val_loss: 0.2499 - val_acc: 0.9360\n",
      "Epoch 38/100\n",
      "100/100 [==============================] - 24s 241ms/step - loss: 0.0044 - acc: 0.9995 - val_loss: 0.2747 - val_acc: 0.9420\n",
      "Epoch 39/100\n",
      "100/100 [==============================] - 24s 238ms/step - loss: 0.0111 - acc: 0.9965 - val_loss: 0.2756 - val_acc: 0.9340\n",
      "Epoch 40/100\n",
      "100/100 [==============================] - 24s 239ms/step - loss: 0.0051 - acc: 0.9985 - val_loss: 0.3131 - val_acc: 0.9390\n",
      "Epoch 41/100\n",
      "100/100 [==============================] - 25s 254ms/step - loss: 0.0097 - acc: 0.9965 - val_loss: 0.2976 - val_acc: 0.9310\n",
      "Epoch 42/100\n",
      "100/100 [==============================] - 24s 238ms/step - loss: 0.0056 - acc: 0.9985 - val_loss: 0.2728 - val_acc: 0.9420\n",
      "Epoch 43/100\n",
      "100/100 [==============================] - 24s 241ms/step - loss: 0.0071 - acc: 0.9970 - val_loss: 0.2786 - val_acc: 0.9390\n",
      "Epoch 44/100\n",
      "100/100 [==============================] - 24s 239ms/step - loss: 0.0051 - acc: 0.9985 - val_loss: 0.3153 - val_acc: 0.9370\n",
      "Epoch 45/100\n",
      "100/100 [==============================] - 24s 238ms/step - loss: 0.0042 - acc: 0.9990 - val_loss: 0.3622 - val_acc: 0.9280\n",
      "Epoch 46/100\n",
      "100/100 [==============================] - 23s 235ms/step - loss: 0.0031 - acc: 0.9995 - val_loss: 0.3262 - val_acc: 0.9320\n",
      "Epoch 47/100\n",
      "100/100 [==============================] - 24s 235ms/step - loss: 0.0041 - acc: 0.9990 - val_loss: 0.2883 - val_acc: 0.9340\n",
      "Epoch 48/100\n",
      "100/100 [==============================] - 24s 239ms/step - loss: 0.0041 - acc: 0.9985 - val_loss: 0.3268 - val_acc: 0.9350\n",
      "Epoch 49/100\n",
      " 84/100 [========================>.....] - ETA: 3s - loss: 0.0063 - acc: 0.9976"
     ]
    }
   ],
   "source": [
    "#네트워크 미세 조정\n",
    "model.compile(loss='binary_crossentropy', optimizer = optimizers.RMSprop(learning_rate=1e-5), metrics = ['acc'])\n",
    "\n",
    "histroy = model.fit_generator(train_generator,\n",
    "                              steps_per_epoch=100,\n",
    "                              epochs=100,\n",
    "                              validation_data=validation_generator,\n",
    "                              validation_steps=50)"
   ]
  },
  {
   "cell_type": "code",
   "execution_count": null,
   "id": "0f55ae2d",
   "metadata": {
    "id": "4Zgycd0fsCTw"
   },
   "outputs": [],
   "source": [
    "#그래프가 불규칙하게 보이기 때문에 지수 이동 평균(exponential moving averages) 사용\n",
    "\n",
    "def smooth_curve(points, factor=0.8):\n",
    "  smoothed_points = []\n",
    "  for point in points:\n",
    "    if smoothed_points:\n",
    "      previous = smoothed_points[-1]\n",
    "      smoothed_points.append(previous * factor + point * (1 - factor))\n",
    "    else:\n",
    "      smoothed_points.append(point)\n",
    "  return smoothed_points\n",
    "\n",
    "plt.plot(epochs, smooth_curve(acc), 'bo', label='Smoothed training acc')\n",
    "plt.plot(epochs, smooth_curve(val_acc), 'b', label='Smoothed validation acc')\n",
    "plt.title('Training and validation accuracy')\n",
    "plt.legend()\n",
    "\n",
    "plt.figure()\n",
    "\n",
    "plt.plot(epochs, smooth_curve(loss), 'bo', label='Smoothed training loss')\n",
    "plt.plot(epochs, smooth_curve(val_loss, 'b', label='Smoothed validation loss'))\n",
    "plt.title('Training and validation loss')\n",
    "plt.legend()\n",
    "\n",
    "plt.show()"
   ]
  },
  {
   "cell_type": "code",
   "execution_count": null,
   "id": "0cbbfb17",
   "metadata": {
    "id": "PM504lJbt8XY"
   },
   "outputs": [],
   "source": [
    "test_generator = test_datagen.flow_from_directory(test_dir, target_size = (150, 150), batch_size=20, class_mode='binary')\n",
    "\n",
    "test_loss, test_acc = model.evaluate_generator(test_generator, steps=50)\n",
    "print('test acc: ', test_acc)"
   ]
  },
  {
   "cell_type": "markdown",
   "id": "9be218db",
   "metadata": {
    "id": "oxH40v8kuZI6"
   },
   "source": [
    "정리\n",
    "1. 컨브넷은 컴퓨터 비전 작업에 가장 뛰어난 머신 러닝 모델, 아주 작은 데이터셋에서 처음부터 훈련해서 괜찮은 성능을 낼 수 있음\n",
    "2. 작은 이미지 데이터 셋에서는 데이터 증식 사용하기\n",
    "3. 특성 추출 방식으로 새로운 데이터셋에 기존 컨브넷을 쉽게 재사용할 수 있음 -> 작은 이미지 데이터셋으로 작업할 때 효과적\n",
    "4. 특성 추출을 보완하기 위해 미세 조정을 사용할 수 있음"
   ]
  }
 ],
 "metadata": {
  "accelerator": "GPU",
  "colab": {
   "name": "",
   "version": ""
  },
  "gpuClass": "standard",
  "kernelspec": {
   "display_name": "Python 3 (ipykernel)",
   "language": "python",
   "name": "python3"
  },
  "language_info": {
   "codemirror_mode": {
    "name": "ipython",
    "version": 3
   },
   "file_extension": ".py",
   "mimetype": "text/x-python",
   "name": "python",
   "nbconvert_exporter": "python",
   "pygments_lexer": "ipython3",
   "version": "3.9.13"
  }
 },
 "nbformat": 4,
 "nbformat_minor": 5
}
