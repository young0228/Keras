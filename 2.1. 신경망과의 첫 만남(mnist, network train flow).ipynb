{
 "cells": [
  {
   "cell_type": "code",
   "execution_count": 11,
   "id": "e5966f22",
   "metadata": {},
   "outputs": [
    {
     "name": "stdout",
     "output_type": "stream",
     "text": [
      "Downloading data from https://storage.googleapis.com/tensorflow/tf-keras-datasets/mnist.npz\n",
      "11490434/11490434 [==============================] - 1s 0us/step\n"
     ]
    }
   ],
   "source": [
    "from keras.datasets import mnist\n",
    "(train_images, train_labels), (test_images, test_labels) = mnist.load_data()"
   ]
  },
  {
   "cell_type": "code",
   "execution_count": 17,
   "id": "8592fbec",
   "metadata": {},
   "outputs": [
    {
     "name": "stdout",
     "output_type": "stream",
     "text": [
      "train image shape:  (60000, 28, 28)\n",
      "train image len:  60000\n",
      "train labels:  [5 0 4 ... 5 6 8]\n",
      "\n",
      "test image shape:  (10000, 28, 28)\n",
      "test image len:  10000\n",
      "test labels:  [7 2 1 ... 4 5 6]\n"
     ]
    }
   ],
   "source": [
    "print('train image shape: ',train_images.shape)\n",
    "print('train image len: ', len(train_labels))\n",
    "print('train labels: ', train_labels)\n",
    "\n",
    "print('\\ntest image shape: ',test_images.shape)\n",
    "print('test image len: ', len(test_labels))\n",
    "print('test labels: ', test_labels)"
   ]
  },
  {
   "cell_type": "code",
   "execution_count": 23,
   "id": "fb6a07e0",
   "metadata": {},
   "outputs": [],
   "source": [
    "from keras import models\n",
    "from keras import layers\n",
    "\n",
    "network = models.Sequential()\n",
    "network.add(layers.Dense(512, activation='relu', input_shape = (28*28,)))\n",
    "network.add(layers.Dense(10, activation = 'softmax'))"
   ]
  },
  {
   "cell_type": "markdown",
   "id": "3baad82a",
   "metadata": {},
   "source": [
    "- 층은 주어진 문제에 더 의미 있는 표현을 입력된 데이터로부터 추출\n",
    "- relu, softmax dense 층은 완전 연결(fully connected)\n",
    "- softmax: 10개의 확률 점수가 들어있는 배열, 각 점수는 현재 숫자 이미지가 10개의 숫자 클래스 중 하나에 속할 확률 (모두 더하면 1)"
   ]
  },
  {
   "cell_type": "markdown",
   "id": "265341ef",
   "metadata": {},
   "source": [
    "reference: https://blog.naver.com/intelliz/221709190464\n",
    "\n",
    "FC(Fully connected layer): 한층의 모든 뉴런이 다음층이 모든 뉴런과 연결된 상태로 2차원의 배열 형태 이미지를 1차원의 평탄화 작업을 통해 이미지를 분류하는데 사용되는 계층\n",
    "\n",
    "1. 2차원 배열 형태의 이미지를 1차원 배열로 평탄화\n",
    "\n",
    "2. 활성화 함수(Relu, Leaky Relu, Tanh,등)뉴런을 활성화\n",
    "\n",
    "3. 분류기(Softmax) 함수로 분류"
   ]
  },
  {
   "cell_type": "markdown",
   "id": "4148ce9c",
   "metadata": {},
   "source": [
    "Rectified Linear Unit(Relu): will output the input directly if it is positive, otherwise, it will output zero(if input is negative or 0 then output will be zero)\n",
    "\n",
    "\n",
    "Softmax: transforms the raw outputs of the neural network into a vector of probabilities, essentially a probability distribution over the input classes."
   ]
  },
  {
   "cell_type": "code",
   "execution_count": 24,
   "id": "51c8edbb",
   "metadata": {},
   "outputs": [],
   "source": [
    "#Set optimizer/loss function\n",
    "network.compile(optimizer='rmsprop', loss = 'categorical_crossentropy', metrics = ['accuracy'])"
   ]
  },
  {
   "cell_type": "code",
   "execution_count": 25,
   "id": "047025c2",
   "metadata": {},
   "outputs": [],
   "source": [
    "train_images = train_images.reshape((60000, 28*28))\n",
    "train_images = train_images.astype('float32') / 255\n",
    "\n",
    "test_images = test_images.reshape((10000, 28*28))\n",
    "test_images = test_images.astype('float32') /255"
   ]
  },
  {
   "cell_type": "code",
   "execution_count": 27,
   "id": "ebdf553d",
   "metadata": {},
   "outputs": [
    {
     "data": {
      "text/plain": [
       "array([5, 0, 4, ..., 5, 6, 8], dtype=uint8)"
      ]
     },
     "execution_count": 27,
     "metadata": {},
     "output_type": "execute_result"
    }
   ],
   "source": [
    "train_labels"
   ]
  },
  {
   "cell_type": "code",
   "execution_count": 28,
   "id": "f395ef1c",
   "metadata": {},
   "outputs": [],
   "source": [
    "from keras.utils import to_categorical\n",
    "\n",
    "train_labels = to_categorical(train_labels)\n",
    "test_labels = to_categorical(test_labels)"
   ]
  },
  {
   "cell_type": "code",
   "execution_count": 29,
   "id": "fd5c3f4a",
   "metadata": {},
   "outputs": [
    {
     "data": {
      "text/plain": [
       "array([[0., 0., 0., ..., 0., 0., 0.],\n",
       "       [1., 0., 0., ..., 0., 0., 0.],\n",
       "       [0., 0., 0., ..., 0., 0., 0.],\n",
       "       ...,\n",
       "       [0., 0., 0., ..., 0., 0., 0.],\n",
       "       [0., 0., 0., ..., 0., 0., 0.],\n",
       "       [0., 0., 0., ..., 0., 1., 0.]], dtype=float32)"
      ]
     },
     "execution_count": 29,
     "metadata": {},
     "output_type": "execute_result"
    }
   ],
   "source": [
    "train_labels"
   ]
  },
  {
   "cell_type": "code",
   "execution_count": 30,
   "id": "e61e24b3",
   "metadata": {},
   "outputs": [
    {
     "name": "stdout",
     "output_type": "stream",
     "text": [
      "Epoch 1/5\n",
      "469/469 [==============================] - 3s 5ms/step - loss: 0.2651 - accuracy: 0.9241\n",
      "Epoch 2/5\n",
      "469/469 [==============================] - 2s 5ms/step - loss: 0.1081 - accuracy: 0.9682\n",
      "Epoch 3/5\n",
      "469/469 [==============================] - 2s 5ms/step - loss: 0.0715 - accuracy: 0.9790\n",
      "Epoch 4/5\n",
      "469/469 [==============================] - 2s 5ms/step - loss: 0.0520 - accuracy: 0.9851\n",
      "Epoch 5/5\n",
      "469/469 [==============================] - 2s 5ms/step - loss: 0.0389 - accuracy: 0.9883\n"
     ]
    },
    {
     "data": {
      "text/plain": [
       "<keras.callbacks.History at 0x202ef1a8040>"
      ]
     },
     "execution_count": 30,
     "metadata": {},
     "output_type": "execute_result"
    }
   ],
   "source": [
    "network.fit(train_images, train_labels, epochs =5, batch_size = 128)"
   ]
  },
  {
   "cell_type": "code",
   "execution_count": 31,
   "id": "a36f57a5",
   "metadata": {},
   "outputs": [
    {
     "name": "stdout",
     "output_type": "stream",
     "text": [
      "313/313 [==============================] - 1s 2ms/step - loss: 0.0663 - accuracy: 0.9798\n"
     ]
    }
   ],
   "source": [
    "test_loss, test_acc = network.evaluate(test_images, test_labels)"
   ]
  }
 ],
 "metadata": {
  "kernelspec": {
   "display_name": "Python 3 (ipykernel)",
   "language": "python",
   "name": "python3"
  },
  "language_info": {
   "codemirror_mode": {
    "name": "ipython",
    "version": 3
   },
   "file_extension": ".py",
   "mimetype": "text/x-python",
   "name": "python",
   "nbconvert_exporter": "python",
   "pygments_lexer": "ipython3",
   "version": "3.9.13"
  }
 },
 "nbformat": 4,
 "nbformat_minor": 5
}
