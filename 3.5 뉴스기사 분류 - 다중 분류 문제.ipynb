{
 "cells": [
  {
   "cell_type": "code",
   "execution_count": 1,
   "id": "fd732a95",
   "metadata": {},
   "outputs": [
    {
     "name": "stdout",
     "output_type": "stream",
     "text": [
      "Downloading data from https://storage.googleapis.com/tensorflow/tf-keras-datasets/reuters.npz\n",
      "2110848/2110848 [==============================] - 0s 0us/step\n"
     ]
    }
   ],
   "source": [
    "from keras.datasets import reuters\n",
    "\n",
    "(train_data, train_labels),(test_data, test_labels) = reuters.load_data(num_words=10000)"
   ]
  },
  {
   "cell_type": "code",
   "execution_count": 2,
   "id": "790c4997",
   "metadata": {},
   "outputs": [
    {
     "name": "stdout",
     "output_type": "stream",
     "text": [
      "train data #:  8982\n",
      "test data #  2246\n"
     ]
    }
   ],
   "source": [
    "print('train data #: ', len(train_data))\n",
    "print('test data # ', len(test_data))"
   ]
  },
  {
   "cell_type": "code",
   "execution_count": 5,
   "id": "da3d4639",
   "metadata": {},
   "outputs": [
    {
     "name": "stdout",
     "output_type": "stream",
     "text": [
      "Downloading data from https://storage.googleapis.com/tensorflow/tf-keras-datasets/reuters_word_index.json\n",
      "550378/550378 [==============================] - 0s 0us/step\n"
     ]
    },
    {
     "data": {
      "text/plain": [
       "'? ? ? said as a result of its december acquisition of space co it expects earnings per share in 1987 of 1 15 to 1 30 dlrs per share up from 70 cts in 1986 the company said pretax net should rise to nine to 10 mln dlrs from six mln dlrs in 1986 and rental operation revenues to 19 to 22 mln dlrs from 12 5 mln dlrs it said cash flow per share this year should be 2 50 to three dlrs reuter 3'"
      ]
     },
     "execution_count": 5,
     "metadata": {},
     "output_type": "execute_result"
    }
   ],
   "source": [
    "word_index = reuters.get_word_index()\n",
    "reverse_word_index = dict([(value,key) for (key, value) in word_index.items()])\n",
    "decoded_newswire = ' '.join([reverse_word_index.get(i - 3, '?') for i in train_data[0]])\n",
    "decoded_newswire"
   ]
  },
  {
   "cell_type": "code",
   "execution_count": 9,
   "id": "e5cebd22",
   "metadata": {},
   "outputs": [],
   "source": [
    "import numpy as np\n",
    "\n",
    "def vectorize_sequences(sequences, dimension=10000):\n",
    "    results = np.zeros((len(sequences), dimension))\n",
    "    for i, sequence in enumerate(sequences):\n",
    "        results[i, sequence] = 1.\n",
    "    return results\n",
    "\n",
    "x_train = vectorize_sequences(train_data)\n",
    "x_test = vectorize_sequences(test_data)"
   ]
  },
  {
   "cell_type": "code",
   "execution_count": 15,
   "id": "267e13b3",
   "metadata": {},
   "outputs": [],
   "source": [
    "def to_one_hot(labels, dimension=46):\n",
    "    results = np.zeros((len(labels), dimension))\n",
    "    for i, label in enumerate(labels):\n",
    "        results[i, label] = 1.\n",
    "    return results\n",
    "\n",
    "one_hot_train_labels = to_one_hot(train_labels)\n",
    "one_hot_test_labels = to_one_hot(test_labels)"
   ]
  },
  {
   "cell_type": "code",
   "execution_count": 12,
   "id": "823be359",
   "metadata": {},
   "outputs": [],
   "source": [
    "from keras import models\n",
    "from keras import layers\n",
    "\n",
    "model = models.Sequential()\n",
    "model.add(layers.Dense(64, activation='relu', input_shape=(10000,)))\n",
    "model.add(layers.Dense(64, activation='relu'))\n",
    "model.add(layers.Dense(46, activation='softmax'))"
   ]
  },
  {
   "cell_type": "code",
   "execution_count": 13,
   "id": "f566e3fc",
   "metadata": {},
   "outputs": [],
   "source": [
    "model.compile(optimizer = 'rmsprop', loss = 'categorical_crossentropy', metrics = ['accuracy'])"
   ]
  },
  {
   "cell_type": "code",
   "execution_count": 16,
   "id": "f2e2fe66",
   "metadata": {},
   "outputs": [],
   "source": [
    "x_val = x_train[:1000]\n",
    "partial_x_train = x_train[1000:]\n",
    "\n",
    "y_val = one_hot_train_labels[:1000]\n",
    "partial_y_train = one_hot_train_labels[1000:]"
   ]
  },
  {
   "cell_type": "code",
   "execution_count": 17,
   "id": "55909505",
   "metadata": {},
   "outputs": [
    {
     "name": "stdout",
     "output_type": "stream",
     "text": [
      "Epoch 1/20\n",
      "16/16 [==============================] - 2s 72ms/step - loss: 2.8565 - accuracy: 0.4662 - val_loss: 1.9808 - val_accuracy: 0.6330\n",
      "Epoch 2/20\n",
      "16/16 [==============================] - 1s 40ms/step - loss: 1.6225 - accuracy: 0.6794 - val_loss: 1.4003 - val_accuracy: 0.6950\n",
      "Epoch 3/20\n",
      "16/16 [==============================] - 1s 40ms/step - loss: 1.1974 - accuracy: 0.7463 - val_loss: 1.1965 - val_accuracy: 0.7340\n",
      "Epoch 4/20\n",
      "16/16 [==============================] - 1s 36ms/step - loss: 0.9626 - accuracy: 0.7910 - val_loss: 1.0718 - val_accuracy: 0.7640\n",
      "Epoch 5/20\n",
      "16/16 [==============================] - 1s 36ms/step - loss: 0.7937 - accuracy: 0.8270 - val_loss: 1.0172 - val_accuracy: 0.7740\n",
      "Epoch 6/20\n",
      "16/16 [==============================] - 1s 36ms/step - loss: 0.6657 - accuracy: 0.8631 - val_loss: 0.9433 - val_accuracy: 0.8020\n",
      "Epoch 7/20\n",
      "16/16 [==============================] - 1s 35ms/step - loss: 0.5598 - accuracy: 0.8875 - val_loss: 0.9094 - val_accuracy: 0.8070\n",
      "Epoch 8/20\n",
      "16/16 [==============================] - 1s 38ms/step - loss: 0.4699 - accuracy: 0.9045 - val_loss: 0.9122 - val_accuracy: 0.8040\n",
      "Epoch 9/20\n",
      "16/16 [==============================] - 1s 36ms/step - loss: 0.3991 - accuracy: 0.9149 - val_loss: 0.8590 - val_accuracy: 0.8200\n",
      "Epoch 10/20\n",
      "16/16 [==============================] - 1s 36ms/step - loss: 0.3413 - accuracy: 0.9258 - val_loss: 0.8909 - val_accuracy: 0.8120\n",
      "Epoch 11/20\n",
      "16/16 [==============================] - 1s 36ms/step - loss: 0.2939 - accuracy: 0.9349 - val_loss: 0.8543 - val_accuracy: 0.8240\n",
      "Epoch 12/20\n",
      "16/16 [==============================] - 1s 37ms/step - loss: 0.2636 - accuracy: 0.9414 - val_loss: 0.8816 - val_accuracy: 0.8180\n",
      "Epoch 13/20\n",
      "16/16 [==============================] - 1s 36ms/step - loss: 0.2277 - accuracy: 0.9473 - val_loss: 0.8788 - val_accuracy: 0.8180\n",
      "Epoch 14/20\n",
      "16/16 [==============================] - 1s 37ms/step - loss: 0.2098 - accuracy: 0.9501 - val_loss: 0.8764 - val_accuracy: 0.8240\n",
      "Epoch 15/20\n",
      "16/16 [==============================] - 1s 37ms/step - loss: 0.1859 - accuracy: 0.9513 - val_loss: 0.8766 - val_accuracy: 0.8290\n",
      "Epoch 16/20\n",
      "16/16 [==============================] - 1s 37ms/step - loss: 0.1718 - accuracy: 0.9565 - val_loss: 0.9104 - val_accuracy: 0.8130\n",
      "Epoch 17/20\n",
      "16/16 [==============================] - 1s 36ms/step - loss: 0.1589 - accuracy: 0.9558 - val_loss: 0.9442 - val_accuracy: 0.8050\n",
      "Epoch 18/20\n",
      "16/16 [==============================] - 1s 37ms/step - loss: 0.1527 - accuracy: 0.9573 - val_loss: 0.9465 - val_accuracy: 0.8170\n",
      "Epoch 19/20\n",
      "16/16 [==============================] - 1s 36ms/step - loss: 0.1451 - accuracy: 0.9557 - val_loss: 0.9212 - val_accuracy: 0.8180\n",
      "Epoch 20/20\n",
      "16/16 [==============================] - 1s 36ms/step - loss: 0.1370 - accuracy: 0.9569 - val_loss: 0.9833 - val_accuracy: 0.8170\n"
     ]
    }
   ],
   "source": [
    "history = model.fit(partial_x_train, partial_y_train, epochs=20, batch_size = 512, validation_data=(x_val, y_val))"
   ]
  },
  {
   "cell_type": "code",
   "execution_count": 20,
   "id": "22f2c548",
   "metadata": {},
   "outputs": [
    {
     "data": {
      "image/png": "[encoded data removed]",
      "text/plain": [
       "<Figure size 640x480 with 1 Axes>"
      ]
     },
     "metadata": {},
     "output_type": "display_data"
    }
   ],
   "source": [
    "import matplotlib.pyplot as plt\n",
    "\n",
    "loss = history.history['loss']\n",
    "val_loss = history.history['val_loss']\n",
    "\n",
    "epochs = range(1, len(loss)+1)\n",
    "\n",
    "plt.plot(epochs, loss, 'bo', label = 'Training Loss')\n",
    "plt.plot(epochs, val_loss, 'b', label = 'Validation Loss')\n",
    "plt.title('Training and Validation Loss')\n",
    "plt.xlabel('Epochs')\n",
    "plt.ylabel('Loss')\n",
    "plt.legend\n",
    "\n",
    "plt.show()"
   ]
  },
  {
   "cell_type": "code",
   "execution_count": 21,
   "id": "61b582c6",
   "metadata": {},
   "outputs": [
    {
     "data": {
      "image/png": "[encoded data removed]",
      "text/plain": [
       "<Figure size 640x480 with 1 Axes>"
      ]
     },
     "metadata": {},
     "output_type": "display_data"
    }
   ],
   "source": [
    "plt.clf()\n",
    "\n",
    "accuracy = history.history['accuracy']\n",
    "val_accuracy = history.history['val_accuracy']\n",
    "\n",
    "plt.plot(epochs, accuracy, 'bo', label = 'Training accuracy')\n",
    "plt.plot(epochs, val_accuracy, 'b', label = 'Validation accuracy')\n",
    "plt.title('Training and Validation accuracy')\n",
    "plt.xlabel('Epochs')\n",
    "plt.ylabel('Loss')\n",
    "plt.legend\n",
    "\n",
    "plt.show()"
   ]
  },
  {
   "cell_type": "code",
   "execution_count": 22,
   "id": "097c051d",
   "metadata": {
    "scrolled": true
   },
   "outputs": [
    {
     "name": "stdout",
     "output_type": "stream",
     "text": [
      "Epoch 1/20\n",
      "16/16 [==============================] - 2s 60ms/step - loss: 2.7200 - accuracy: 0.4752 - val_loss: 1.8388 - val_accuracy: 0.6160\n",
      "Epoch 2/20\n",
      "16/16 [==============================] - 1s 38ms/step - loss: 1.5579 - accuracy: 0.6774 - val_loss: 1.4023 - val_accuracy: 0.6870\n",
      "Epoch 3/20\n",
      "16/16 [==============================] - 1s 39ms/step - loss: 1.2063 - accuracy: 0.7364 - val_loss: 1.2325 - val_accuracy: 0.7280\n",
      "Epoch 4/20\n",
      "16/16 [==============================] - 1s 40ms/step - loss: 0.9906 - accuracy: 0.7878 - val_loss: 1.1295 - val_accuracy: 0.7500\n",
      "Epoch 5/20\n",
      "16/16 [==============================] - 1s 39ms/step - loss: 0.8260 - accuracy: 0.8190 - val_loss: 1.0346 - val_accuracy: 0.7710\n",
      "Epoch 6/20\n",
      "16/16 [==============================] - 1s 39ms/step - loss: 0.6874 - accuracy: 0.8485 - val_loss: 0.9701 - val_accuracy: 0.7860\n",
      "Epoch 7/20\n",
      "16/16 [==============================] - 1s 39ms/step - loss: 0.5787 - accuracy: 0.8781 - val_loss: 0.9240 - val_accuracy: 0.8130\n",
      "Epoch 8/20\n",
      "16/16 [==============================] - 1s 39ms/step - loss: 0.4800 - accuracy: 0.8983 - val_loss: 0.9109 - val_accuracy: 0.8130\n",
      "Epoch 9/20\n",
      "16/16 [==============================] - 1s 39ms/step - loss: 0.4065 - accuracy: 0.9142 - val_loss: 0.9012 - val_accuracy: 0.8100\n",
      "Epoch 10/20\n",
      "16/16 [==============================] - 1s 41ms/step - loss: 0.3465 - accuracy: 0.9276 - val_loss: 0.8848 - val_accuracy: 0.8220\n",
      "Epoch 11/20\n",
      "16/16 [==============================] - 1s 41ms/step - loss: 0.2955 - accuracy: 0.9367 - val_loss: 0.8828 - val_accuracy: 0.8250\n",
      "Epoch 12/20\n",
      "16/16 [==============================] - 1s 39ms/step - loss: 0.2553 - accuracy: 0.9412 - val_loss: 0.9251 - val_accuracy: 0.8100\n",
      "Epoch 13/20\n",
      "16/16 [==============================] - 1s 38ms/step - loss: 0.2299 - accuracy: 0.9479 - val_loss: 0.8994 - val_accuracy: 0.8290\n",
      "Epoch 14/20\n",
      "16/16 [==============================] - 1s 38ms/step - loss: 0.2020 - accuracy: 0.9498 - val_loss: 0.9145 - val_accuracy: 0.8240\n",
      "Epoch 15/20\n",
      "16/16 [==============================] - 1s 37ms/step - loss: 0.1832 - accuracy: 0.9525 - val_loss: 0.9205 - val_accuracy: 0.8240\n",
      "Epoch 16/20\n",
      "16/16 [==============================] - 1s 37ms/step - loss: 0.1688 - accuracy: 0.9545 - val_loss: 0.9363 - val_accuracy: 0.8140\n",
      "Epoch 17/20\n",
      "16/16 [==============================] - 1s 37ms/step - loss: 0.1567 - accuracy: 0.9540 - val_loss: 0.9755 - val_accuracy: 0.8190\n",
      "Epoch 18/20\n",
      "16/16 [==============================] - 1s 37ms/step - loss: 0.1453 - accuracy: 0.9553 - val_loss: 0.9714 - val_accuracy: 0.8170\n",
      "Epoch 19/20\n",
      "16/16 [==============================] - 1s 38ms/step - loss: 0.1380 - accuracy: 0.9567 - val_loss: 0.9637 - val_accuracy: 0.8160\n",
      "Epoch 20/20\n",
      "16/16 [==============================] - 1s 36ms/step - loss: 0.1318 - accuracy: 0.9567 - val_loss: 1.0547 - val_accuracy: 0.7990\n",
      "71/71 [==============================] - 0s 4ms/step - loss: 1.1427 - accuracy: 0.7814\n"
     ]
    },
    {
     "data": {
      "text/plain": [
       "[1.142708420753479, 0.7813891172409058]"
      ]
     },
     "execution_count": 22,
     "metadata": {},
     "output_type": "execute_result"
    }
   ],
   "source": [
    "#9 epoch\n",
    "\n",
    "model = models.Sequential()\n",
    "model.add(layers.Dense(64, activation='relu', input_shape=(10000,)))\n",
    "model.add(layers.Dense(64, activation='relu'))\n",
    "model.add(layers.Dense(46, activation='softmax'))\n",
    "\n",
    "model.compile(optimizer = 'rmsprop', loss = 'categorical_crossentropy', metrics = ['accuracy'])\n",
    "model.fit(partial_x_train, partial_y_train, epochs=20, batch_size = 512, validation_data=(x_val, y_val))\n",
    "results = model.evaluate(x_test,one_hot_test_labels)\n",
    "\n",
    "results"
   ]
  },
  {
   "cell_type": "code",
   "execution_count": 23,
   "id": "cd853f24",
   "metadata": {},
   "outputs": [
    {
     "name": "stdout",
     "output_type": "stream",
     "text": [
      "71/71 [==============================] - 1s 3ms/step\n"
     ]
    }
   ],
   "source": [
    "predictions = model.predict(x_test)"
   ]
  },
  {
   "cell_type": "code",
   "execution_count": 26,
   "id": "122bf802",
   "metadata": {
    "scrolled": true
   },
   "outputs": [
    {
     "name": "stdout",
     "output_type": "stream",
     "text": [
      "vector size:  (46,)\n",
      "Sum of vector:  0.99999994\n",
      "Class have highest possibility:  3\n"
     ]
    }
   ],
   "source": [
    "print('vector size: ',predictions[0].shape)\n",
    "print('Sum of vector: ',np.sum(predictions[0]))\n",
    "print('Class have highest possibility: ',np.argmax(predictions[0]))"
   ]
  },
  {
   "cell_type": "code",
   "execution_count": 27,
   "id": "f620ca7d",
   "metadata": {
    "scrolled": true
   },
   "outputs": [
    {
     "name": "stdout",
     "output_type": "stream",
     "text": [
      "Epoch 1/20\n",
      "16/16 [==============================] - 2s 73ms/step - loss: 2.3343 - accuracy: 0.5130 - val_loss: 1.5551 - val_accuracy: 0.6470\n",
      "Epoch 2/20\n",
      "16/16 [==============================] - 1s 49ms/step - loss: 1.3071 - accuracy: 0.7115 - val_loss: 1.2192 - val_accuracy: 0.7270\n",
      "Epoch 3/20\n",
      "16/16 [==============================] - 1s 48ms/step - loss: 0.9808 - accuracy: 0.7868 - val_loss: 1.0688 - val_accuracy: 0.7740\n",
      "Epoch 4/20\n",
      "16/16 [==============================] - 1s 50ms/step - loss: 0.7687 - accuracy: 0.8353 - val_loss: 0.9578 - val_accuracy: 0.7970\n",
      "Epoch 5/20\n",
      "16/16 [==============================] - 1s 50ms/step - loss: 0.6033 - accuracy: 0.8700 - val_loss: 0.9255 - val_accuracy: 0.7980\n",
      "Epoch 6/20\n",
      "16/16 [==============================] - 1s 47ms/step - loss: 0.4669 - accuracy: 0.9005 - val_loss: 0.9086 - val_accuracy: 0.7910\n",
      "Epoch 7/20\n",
      "16/16 [==============================] - 1s 50ms/step - loss: 0.3905 - accuracy: 0.9147 - val_loss: 0.8602 - val_accuracy: 0.8190\n",
      "Epoch 8/20\n",
      "16/16 [==============================] - 1s 50ms/step - loss: 0.3065 - accuracy: 0.9331 - val_loss: 0.8589 - val_accuracy: 0.8110\n",
      "Epoch 9/20\n",
      "16/16 [==============================] - 1s 49ms/step - loss: 0.2756 - accuracy: 0.9401 - val_loss: 0.8933 - val_accuracy: 0.7950\n",
      "Epoch 10/20\n",
      "16/16 [==============================] - 1s 49ms/step - loss: 0.2197 - accuracy: 0.9465 - val_loss: 0.8519 - val_accuracy: 0.8270\n",
      "Epoch 11/20\n",
      "16/16 [==============================] - 1s 49ms/step - loss: 0.2097 - accuracy: 0.9465 - val_loss: 0.9060 - val_accuracy: 0.8090\n",
      "Epoch 12/20\n",
      "16/16 [==============================] - 1s 47ms/step - loss: 0.1788 - accuracy: 0.9536 - val_loss: 0.9024 - val_accuracy: 0.8080\n",
      "Epoch 13/20\n",
      "16/16 [==============================] - 1s 47ms/step - loss: 0.1642 - accuracy: 0.9538 - val_loss: 0.8877 - val_accuracy: 0.8260\n",
      "Epoch 14/20\n",
      "16/16 [==============================] - 1s 48ms/step - loss: 0.1617 - accuracy: 0.9528 - val_loss: 0.9589 - val_accuracy: 0.8070\n",
      "Epoch 15/20\n",
      "16/16 [==============================] - 1s 48ms/step - loss: 0.1458 - accuracy: 0.9565 - val_loss: 0.9350 - val_accuracy: 0.8150\n",
      "Epoch 16/20\n",
      "16/16 [==============================] - 1s 48ms/step - loss: 0.1438 - accuracy: 0.9553 - val_loss: 0.9710 - val_accuracy: 0.8050\n",
      "Epoch 17/20\n",
      "16/16 [==============================] - 1s 49ms/step - loss: 0.1313 - accuracy: 0.9567 - val_loss: 0.9142 - val_accuracy: 0.8240\n",
      "Epoch 18/20\n",
      "16/16 [==============================] - 1s 50ms/step - loss: 0.1321 - accuracy: 0.9563 - val_loss: 1.0119 - val_accuracy: 0.7910\n",
      "Epoch 19/20\n",
      "16/16 [==============================] - 1s 49ms/step - loss: 0.1241 - accuracy: 0.9590 - val_loss: 0.9462 - val_accuracy: 0.8110\n",
      "Epoch 20/20\n",
      "16/16 [==============================] - 1s 48ms/step - loss: 0.1229 - accuracy: 0.9577 - val_loss: 1.0855 - val_accuracy: 0.7820\n",
      "71/71 [==============================] - 0s 5ms/step - loss: 1.1978 - accuracy: 0.7698\n"
     ]
    },
    {
     "data": {
      "text/plain": [
       "[1.1977788209915161, 0.7698130011558533]"
      ]
     },
     "execution_count": 27,
     "metadata": {},
     "output_type": "execute_result"
    }
   ],
   "source": [
    "# 128 hidden unit\n",
    "model = models.Sequential()\n",
    "model.add(layers.Dense(128, activation='relu', input_shape=(10000,)))\n",
    "model.add(layers.Dense(128, activation='relu'))\n",
    "model.add(layers.Dense(46, activation='softmax'))\n",
    "\n",
    "model.compile(optimizer = 'rmsprop', loss = 'categorical_crossentropy', metrics = ['accuracy'])\n",
    "model.fit(partial_x_train, partial_y_train, epochs=20, batch_size = 512, validation_data=(x_val, y_val))\n",
    "results = model.evaluate(x_test,one_hot_test_labels)\n",
    "\n",
    "results"
   ]
  },
  {
   "cell_type": "code",
   "execution_count": 28,
   "id": "940c06de",
   "metadata": {
    "scrolled": true
   },
   "outputs": [
    {
     "name": "stdout",
     "output_type": "stream",
     "text": [
      "Epoch 1/20\n",
      "16/16 [==============================] - 2s 75ms/step - loss: 2.3995 - accuracy: 0.4946 - val_loss: 1.6210 - val_accuracy: 0.6210\n",
      "Epoch 2/20\n",
      "16/16 [==============================] - 1s 53ms/step - loss: 1.3570 - accuracy: 0.6956 - val_loss: 1.2372 - val_accuracy: 0.7110\n",
      "Epoch 3/20\n",
      "16/16 [==============================] - 1s 52ms/step - loss: 1.0416 - accuracy: 0.7603 - val_loss: 1.0855 - val_accuracy: 0.7490\n",
      "Epoch 4/20\n",
      "16/16 [==============================] - 1s 51ms/step - loss: 0.8319 - accuracy: 0.8073 - val_loss: 0.9850 - val_accuracy: 0.7780\n",
      "Epoch 5/20\n",
      "16/16 [==============================] - 1s 51ms/step - loss: 0.6283 - accuracy: 0.8553 - val_loss: 1.0802 - val_accuracy: 0.7630\n",
      "Epoch 6/20\n",
      "16/16 [==============================] - 1s 51ms/step - loss: 0.4998 - accuracy: 0.8852 - val_loss: 0.9683 - val_accuracy: 0.7920\n",
      "Epoch 7/20\n",
      "16/16 [==============================] - 1s 52ms/step - loss: 0.3864 - accuracy: 0.9107 - val_loss: 0.9629 - val_accuracy: 0.7940\n",
      "Epoch 8/20\n",
      "16/16 [==============================] - 1s 51ms/step - loss: 0.3223 - accuracy: 0.9273 - val_loss: 0.9270 - val_accuracy: 0.8060\n",
      "Epoch 9/20\n",
      "16/16 [==============================] - 1s 50ms/step - loss: 0.2583 - accuracy: 0.9392 - val_loss: 0.9558 - val_accuracy: 0.8030\n",
      "Epoch 10/20\n",
      "16/16 [==============================] - 1s 51ms/step - loss: 0.2634 - accuracy: 0.9376 - val_loss: 0.9339 - val_accuracy: 0.8060\n",
      "Epoch 11/20\n",
      "16/16 [==============================] - 1s 51ms/step - loss: 0.1798 - accuracy: 0.9514 - val_loss: 0.9386 - val_accuracy: 0.8040\n",
      "Epoch 12/20\n",
      "16/16 [==============================] - 1s 53ms/step - loss: 0.1787 - accuracy: 0.9519 - val_loss: 0.9580 - val_accuracy: 0.8020\n",
      "Epoch 13/20\n",
      "16/16 [==============================] - 1s 51ms/step - loss: 0.1566 - accuracy: 0.9553 - val_loss: 1.0357 - val_accuracy: 0.7980\n",
      "Epoch 14/20\n",
      "16/16 [==============================] - 1s 51ms/step - loss: 0.1510 - accuracy: 0.9569 - val_loss: 1.0496 - val_accuracy: 0.7990\n",
      "Epoch 15/20\n",
      "16/16 [==============================] - 1s 51ms/step - loss: 0.1448 - accuracy: 0.9553 - val_loss: 1.1143 - val_accuracy: 0.7950\n",
      "Epoch 16/20\n",
      "16/16 [==============================] - 1s 50ms/step - loss: 0.1371 - accuracy: 0.9578 - val_loss: 1.0810 - val_accuracy: 0.7840\n",
      "Epoch 17/20\n",
      "16/16 [==============================] - 1s 52ms/step - loss: 0.1289 - accuracy: 0.9574 - val_loss: 1.0119 - val_accuracy: 0.8050\n",
      "Epoch 18/20\n",
      "16/16 [==============================] - 1s 51ms/step - loss: 0.1360 - accuracy: 0.9579 - val_loss: 1.0486 - val_accuracy: 0.7930\n",
      "Epoch 19/20\n",
      "16/16 [==============================] - 1s 52ms/step - loss: 0.1196 - accuracy: 0.9572 - val_loss: 1.0338 - val_accuracy: 0.8020\n",
      "Epoch 20/20\n",
      "16/16 [==============================] - 1s 51ms/step - loss: 0.1241 - accuracy: 0.9580 - val_loss: 1.0183 - val_accuracy: 0.8050\n",
      "71/71 [==============================] - 0s 5ms/step - loss: 1.1174 - accuracy: 0.7881\n"
     ]
    },
    {
     "data": {
      "text/plain": [
       "[1.1174476146697998, 0.7880676984786987]"
      ]
     },
     "execution_count": 28,
     "metadata": {},
     "output_type": "execute_result"
    }
   ],
   "source": [
    "# 3 hidden layers\n",
    "model = models.Sequential()\n",
    "model.add(layers.Dense(128, activation='relu', input_shape=(10000,)))\n",
    "model.add(layers.Dense(128, activation='relu'))\n",
    "model.add(layers.Dense(128, activation='relu'))2 hidden layers, 128 hidden node\n",
    "model.add(layers.Dense(46, activation='softmax'))\n",
    "\n",
    "model.compile(optimizer = 'rmsprop', loss = 'categorical_crossentropy', metrics = ['accuracy'])\n",
    "model.fit(partial_x_train, partial_y_train, epochs=20, batch_size = 512, validation_data=(x_val, y_val))\n",
    "results = model.evaluate(x_test,one_hot_test_labels)\n",
    "\n",
    "results"
   ]
  },
  {
   "cell_type": "code",
   "execution_count": 31,
   "id": "f4f47fc2",
   "metadata": {},
   "outputs": [
    {
     "name": "stdout",
     "output_type": "stream",
     "text": [
      "Epoch 1/20\n",
      "16/16 [==============================] - 2s 62ms/step - loss: 2.9134 - accuracy: 0.3950 - val_loss: 1.9800 - val_accuracy: 0.5500\n",
      "Epoch 2/20\n",
      "16/16 [==============================] - 1s 36ms/step - loss: 1.6581 - accuracy: 0.6353 - val_loss: 1.4588 - val_accuracy: 0.6690\n",
      "Epoch 3/20\n",
      "16/16 [==============================] - 1s 38ms/step - loss: 1.2871 - accuracy: 0.7139 - val_loss: 1.2644 - val_accuracy: 0.7160\n",
      "Epoch 4/20\n",
      "16/16 [==============================] - 1s 35ms/step - loss: 1.0754 - accuracy: 0.7539 - val_loss: 1.1533 - val_accuracy: 0.7340\n",
      "Epoch 5/20\n",
      "16/16 [==============================] - 1s 34ms/step - loss: 0.9098 - accuracy: 0.7957 - val_loss: 1.0742 - val_accuracy: 0.7540\n",
      "Epoch 6/20\n",
      "16/16 [==============================] - 1s 34ms/step - loss: 0.7753 - accuracy: 0.8256 - val_loss: 1.0012 - val_accuracy: 0.7750\n",
      "Epoch 7/20\n",
      "16/16 [==============================] - 1s 35ms/step - loss: 0.6540 - accuracy: 0.8529 - val_loss: 1.0023 - val_accuracy: 0.7770\n",
      "Epoch 8/20\n",
      "16/16 [==============================] - 1s 36ms/step - loss: 0.5604 - accuracy: 0.8743 - val_loss: 0.9897 - val_accuracy: 0.7810\n",
      "Epoch 9/20\n",
      "16/16 [==============================] - 1s 34ms/step - loss: 0.4833 - accuracy: 0.8916 - val_loss: 0.9584 - val_accuracy: 0.7950\n",
      "Epoch 10/20\n",
      "16/16 [==============================] - 1s 36ms/step - loss: 0.4008 - accuracy: 0.9112 - val_loss: 0.9495 - val_accuracy: 0.8040\n",
      "Epoch 11/20\n",
      "16/16 [==============================] - 1s 37ms/step - loss: 0.3482 - accuracy: 0.9226 - val_loss: 0.9537 - val_accuracy: 0.8000\n",
      "Epoch 12/20\n",
      "16/16 [==============================] - 1s 35ms/step - loss: 0.2948 - accuracy: 0.9326 - val_loss: 0.9489 - val_accuracy: 0.8140\n",
      "Epoch 13/20\n",
      "16/16 [==============================] - 1s 35ms/step - loss: 0.2771 - accuracy: 0.9382 - val_loss: 1.1058 - val_accuracy: 0.7700\n",
      "Epoch 14/20\n",
      "16/16 [==============================] - 1s 35ms/step - loss: 0.2314 - accuracy: 0.9465 - val_loss: 1.0208 - val_accuracy: 0.7990\n",
      "Epoch 15/20\n",
      "16/16 [==============================] - 1s 32ms/step - loss: 0.2122 - accuracy: 0.9478 - val_loss: 0.9839 - val_accuracy: 0.8180\n",
      "Epoch 16/20\n",
      "16/16 [==============================] - 1s 34ms/step - loss: 0.2043 - accuracy: 0.9473 - val_loss: 1.0245 - val_accuracy: 0.8100\n",
      "Epoch 17/20\n",
      "16/16 [==============================] - 1s 37ms/step - loss: 0.1775 - accuracy: 0.9549 - val_loss: 1.1415 - val_accuracy: 0.7820\n",
      "Epoch 18/20\n",
      "16/16 [==============================] - 1s 33ms/step - loss: 0.1758 - accuracy: 0.9513 - val_loss: 1.0478 - val_accuracy: 0.8100\n",
      "Epoch 19/20\n",
      "16/16 [==============================] - 1s 36ms/step - loss: 0.1650 - accuracy: 0.9550 - val_loss: 1.0266 - val_accuracy: 0.8090\n",
      "Epoch 20/20\n",
      "16/16 [==============================] - 1s 35ms/step - loss: 0.1538 - accuracy: 0.9548 - val_loss: 1.1485 - val_accuracy: 0.7930\n",
      "71/71 [==============================] - 0s 4ms/step - loss: 1.3263 - accuracy: 0.7640\n"
     ]
    },
    {
     "data": {
      "text/plain": [
       "[1.3263040781021118, 0.7640249133110046]"
      ]
     },
     "execution_count": 31,
     "metadata": {},
     "output_type": "execute_result"
    }
   ],
   "source": [
    "# 3 hidden layers\n",
    "model = models.Sequential()\n",
    "model.add(layers.Dense(64, activation='relu', input_shape=(10000,)))\n",
    "model.add(layers.Dense(64, activation='relu'))\n",
    "model.add(layers.Dense(64, activation='relu'))\n",
    "model.add(layers.Dense(46, activation='softmax'))\n",
    "\n",
    "model.compile(optimizer = 'rmsprop', loss = 'categorical_crossentropy', metrics = ['accuracy'])\n",
    "model.fit(partial_x_train, partial_y_train, epochs=20, batch_size = 512, validation_data=(x_val, y_val))\n",
    "results = model.evaluate(x_test,one_hot_test_labels)\n",
    "\n",
    "results"
   ]
  },
  {
   "cell_type": "code",
   "execution_count": 32,
   "id": "bc0a4fa0",
   "metadata": {},
   "outputs": [
    {
     "name": "stdout",
     "output_type": "stream",
     "text": [
      "Epoch 1/20\n",
      "16/16 [==============================] - 2s 53ms/step - loss: 2.7091 - accuracy: 0.5494 - val_loss: 1.9210 - val_accuracy: 0.6510\n",
      "Epoch 2/20\n",
      "16/16 [==============================] - 1s 36ms/step - loss: 1.5975 - accuracy: 0.7036 - val_loss: 1.4107 - val_accuracy: 0.7170\n",
      "Epoch 3/20\n",
      "16/16 [==============================] - 1s 37ms/step - loss: 1.1897 - accuracy: 0.7607 - val_loss: 1.1883 - val_accuracy: 0.7540\n",
      "Epoch 4/20\n",
      "16/16 [==============================] - 1s 36ms/step - loss: 0.9577 - accuracy: 0.8014 - val_loss: 1.0656 - val_accuracy: 0.7910\n",
      "Epoch 5/20\n",
      "16/16 [==============================] - 1s 35ms/step - loss: 0.7960 - accuracy: 0.8368 - val_loss: 0.9865 - val_accuracy: 0.8030\n",
      "Epoch 6/20\n",
      "16/16 [==============================] - 1s 36ms/step - loss: 0.6727 - accuracy: 0.8653 - val_loss: 0.9265 - val_accuracy: 0.8080\n",
      "Epoch 7/20\n",
      "16/16 [==============================] - 1s 35ms/step - loss: 0.5751 - accuracy: 0.8850 - val_loss: 0.8816 - val_accuracy: 0.8170\n",
      "Epoch 8/20\n",
      "16/16 [==============================] - 1s 38ms/step - loss: 0.4952 - accuracy: 0.9035 - val_loss: 0.8519 - val_accuracy: 0.8170\n",
      "Epoch 9/20\n",
      "16/16 [==============================] - 1s 34ms/step - loss: 0.4305 - accuracy: 0.9142 - val_loss: 0.8321 - val_accuracy: 0.8230\n",
      "Epoch 10/20\n",
      "16/16 [==============================] - 1s 35ms/step - loss: 0.3760 - accuracy: 0.9240 - val_loss: 0.8092 - val_accuracy: 0.8270\n",
      "Epoch 11/20\n",
      "16/16 [==============================] - 1s 33ms/step - loss: 0.3316 - accuracy: 0.9330 - val_loss: 0.8049 - val_accuracy: 0.8230\n",
      "Epoch 12/20\n",
      "16/16 [==============================] - 1s 31ms/step - loss: 0.2954 - accuracy: 0.9389 - val_loss: 0.8044 - val_accuracy: 0.8180\n",
      "Epoch 13/20\n",
      "16/16 [==============================] - 1s 33ms/step - loss: 0.2656 - accuracy: 0.9436 - val_loss: 0.7924 - val_accuracy: 0.8280\n",
      "Epoch 14/20\n",
      "16/16 [==============================] - 1s 34ms/step - loss: 0.2397 - accuracy: 0.9463 - val_loss: 0.7857 - val_accuracy: 0.8220\n",
      "Epoch 15/20\n",
      "16/16 [==============================] - 1s 35ms/step - loss: 0.2195 - accuracy: 0.9491 - val_loss: 0.7879 - val_accuracy: 0.8320\n",
      "Epoch 16/20\n",
      "16/16 [==============================] - 1s 34ms/step - loss: 0.2015 - accuracy: 0.9510 - val_loss: 0.7871 - val_accuracy: 0.8280\n",
      "Epoch 17/20\n",
      "16/16 [==============================] - 1s 34ms/step - loss: 0.1846 - accuracy: 0.9528 - val_loss: 0.8040 - val_accuracy: 0.8250\n",
      "Epoch 18/20\n",
      "16/16 [==============================] - 1s 36ms/step - loss: 0.1739 - accuracy: 0.9536 - val_loss: 0.8055 - val_accuracy: 0.8260\n",
      "Epoch 19/20\n",
      "16/16 [==============================] - 1s 36ms/step - loss: 0.1629 - accuracy: 0.9529 - val_loss: 0.8118 - val_accuracy: 0.8250\n",
      "Epoch 20/20\n",
      "16/16 [==============================] - 1s 33ms/step - loss: 0.1514 - accuracy: 0.9554 - val_loss: 0.8239 - val_accuracy: 0.8230\n",
      "71/71 [==============================] - 0s 4ms/step - loss: 0.9004 - accuracy: 0.7992\n"
     ]
    },
    {
     "data": {
      "text/plain": [
       "[0.9003514051437378, 0.799198567867279]"
      ]
     },
     "execution_count": 32,
     "metadata": {},
     "output_type": "execute_result"
    }
   ],
   "source": [
    "# 1 hidden layers\n",
    "model = models.Sequential()\n",
    "model.add(layers.Dense(64, activation='relu', input_shape=(10000,)))\n",
    "model.add(layers.Dense(46, activation='softmax'))\n",
    "\n",
    "model.compile(optimizer = 'rmsprop', loss = 'categorical_crossentropy', metrics = ['accuracy'])\n",
    "model.fit(partial_x_train, partial_y_train, epochs=20, batch_size = 512, validation_data=(x_val, y_val))\n",
    "results = model.evaluate(x_test,one_hot_test_labels)\n",
    "\n",
    "resultsb"
   ]
  },
  {
   "cell_type": "code",
   "execution_count": 33,
   "id": "ec33cba6",
   "metadata": {},
   "outputs": [
    {
     "name": "stdout",
     "output_type": "stream",
     "text": [
      "Epoch 1/20\n",
      "16/16 [==============================] - 2s 84ms/step - loss: 2.2946 - accuracy: 0.5672 - val_loss: 1.5481 - val_accuracy: 0.6720\n",
      "Epoch 2/20\n",
      "16/16 [==============================] - 1s 58ms/step - loss: 1.2706 - accuracy: 0.7392 - val_loss: 1.1954 - val_accuracy: 0.7490\n",
      "Epoch 3/20\n",
      "16/16 [==============================] - 1s 52ms/step - loss: 0.9445 - accuracy: 0.8053 - val_loss: 1.0342 - val_accuracy: 0.7900\n",
      "Epoch 4/20\n",
      "16/16 [==============================] - 1s 52ms/step - loss: 0.7420 - accuracy: 0.8483 - val_loss: 0.9371 - val_accuracy: 0.8090\n",
      "Epoch 5/20\n",
      "16/16 [==============================] - 1s 78ms/step - loss: 0.5969 - accuracy: 0.8804 - val_loss: 0.8731 - val_accuracy: 0.8170\n",
      "Epoch 6/20\n",
      "16/16 [==============================] - 1s 49ms/step - loss: 0.4897 - accuracy: 0.9008 - val_loss: 0.8358 - val_accuracy: 0.8210\n",
      "Epoch 7/20\n",
      "16/16 [==============================] - 1s 46ms/step - loss: 0.4088 - accuracy: 0.9156 - val_loss: 0.8298 - val_accuracy: 0.8130\n",
      "Epoch 8/20\n",
      "16/16 [==============================] - 1s 64ms/step - loss: 0.3453 - accuracy: 0.9300 - val_loss: 0.7990 - val_accuracy: 0.8270\n",
      "Epoch 9/20\n",
      "16/16 [==============================] - 1s 48ms/step - loss: 0.2972 - accuracy: 0.9346 - val_loss: 0.7982 - val_accuracy: 0.8290\n",
      "Epoch 10/20\n",
      "16/16 [==============================] - 1s 50ms/step - loss: 0.2597 - accuracy: 0.9420 - val_loss: 0.7896 - val_accuracy: 0.8300\n",
      "Epoch 11/20\n",
      "16/16 [==============================] - 1s 47ms/step - loss: 0.2301 - accuracy: 0.9442 - val_loss: 0.7911 - val_accuracy: 0.8240\n",
      "Epoch 12/20\n",
      "16/16 [==============================] - 1s 48ms/step - loss: 0.2081 - accuracy: 0.9488 - val_loss: 0.7934 - val_accuracy: 0.8330\n",
      "Epoch 13/20\n",
      "16/16 [==============================] - 1s 52ms/step - loss: 0.1877 - accuracy: 0.9515 - val_loss: 0.7884 - val_accuracy: 0.8360\n",
      "Epoch 14/20\n",
      "16/16 [==============================] - 1s 48ms/step - loss: 0.1718 - accuracy: 0.9540 - val_loss: 0.8138 - val_accuracy: 0.8290\n",
      "Epoch 15/20\n",
      "16/16 [==============================] - 1s 49ms/step - loss: 0.1590 - accuracy: 0.9545 - val_loss: 0.8083 - val_accuracy: 0.8220\n",
      "Epoch 16/20\n",
      "16/16 [==============================] - 1s 50ms/step - loss: 0.1504 - accuracy: 0.9563 - val_loss: 0.8271 - val_accuracy: 0.8200\n",
      "Epoch 17/20\n",
      "16/16 [==============================] - 1s 50ms/step - loss: 0.1418 - accuracy: 0.9567 - val_loss: 0.8492 - val_accuracy: 0.8150\n",
      "Epoch 18/20\n",
      "16/16 [==============================] - 1s 48ms/step - loss: 0.1353 - accuracy: 0.9546 - val_loss: 0.8321 - val_accuracy: 0.8220\n",
      "Epoch 19/20\n",
      "16/16 [==============================] - 1s 48ms/step - loss: 0.1267 - accuracy: 0.9567 - val_loss: 0.8576 - val_accuracy: 0.8170\n",
      "Epoch 20/20\n",
      "16/16 [==============================] - 1s 47ms/step - loss: 0.1249 - accuracy: 0.9572 - val_loss: 0.8509 - val_accuracy: 0.8230\n",
      "71/71 [==============================] - 0s 5ms/step - loss: 0.9293 - accuracy: 0.8023\n"
     ]
    },
    {
     "data": {
      "text/plain": [
       "[0.9292815923690796, 0.8023152351379395]"
      ]
     },
     "execution_count": 33,
     "metadata": {},
     "output_type": "execute_result"
    }
   ],
   "source": [
    "# 1 hidden layers\n",
    "model = models.Sequential()\n",
    "model.add(layers.Dense(128, activation='relu', input_shape=(10000,)))\n",
    "model.add(layers.Dense(46, activation='softmax'))\n",
    "\n",
    "model.compile(optimizer = 'rmsprop', loss = 'categorical_crossentropy', metrics = ['accuracy'])\n",
    "model.fit(partial_x_train, partial_y_train, epochs=20, batch_size = 512, validation_data=(x_val, y_val))\n",
    "results = model.evaluate(x_test,one_hot_test_labels)\n",
    "\n",
    "results"
   ]
  }
 ],
 "metadata": {
  "kernelspec": {
   "display_name": "Python 3 (ipykernel)",
   "language": "python",
   "name": "python3"
  },
  "language_info": {
   "codemirror_mode": {
    "name": "ipython",
    "version": 3
   },
   "file_extension": ".py",
   "mimetype": "text/x-python",
   "name": "python",
   "nbconvert_exporter": "python",
   "pygments_lexer": "ipython3",
   "version": "3.9.13"
  }
 },
 "nbformat": 4,
 "nbformat_minor": 5
}
