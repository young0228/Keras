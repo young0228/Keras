{
 "cells": [
  {
   "cell_type": "markdown",
   "id": "dbe9e292",
   "metadata": {},
   "source": [
    "# 7.2.1 콜백을 사용하여 모델의 훈련 과정 제어하기"
   ]
  },
  {
   "cell_type": "markdown",
   "id": "37f49e30",
   "metadata": {},
   "source": [
    "1. 콜백: 모델의 fit() method가 호출될 때 전달되는 객체\n",
    "2. 콜백을 사용하는 사례\n",
    "    1. 모델 체크포인트 저장: 모델의 현재 가중치 저장\n",
    "    2. 조기 종료(early stopping): 검증 손실이 향상되지 않을 때 훈련 중지\n",
    "    3. 훈련 중 하이퍼파라미터 값을 동적으로 조정: ex. optimizer lr\n",
    "    4. 훈련과 검증 지표를 로그에 기록 or 모델이 학습한 표현이 업데이트될 때마다 시각화"
   ]
  },
  {
   "cell_type": "markdown",
   "id": "0be815e4",
   "metadata": {},
   "source": [
    "3. Model Checkpoint와 EarlyStopping 콜백 코드 예시\n",
    "    ```python\n",
    "    import keras\n",
    "\n",
    "    callbacks_list = [keras.callbacks.EarlyStopping(monitor='val_acc', patience=1, ), #2 epcoh 동안 정확도가 향상되지 않으면 훈련 중지\n",
    "                      keras.callbacks.ModelCheckpoint(filepath='my_model.h5', monitor='val_loss', save_best_only=True),] #val_loss가 좋아지지 않으면 모델 파일을 덮어쓰지 않음\n",
    "\n",
    "    model.compile(optimizer='rmsprop', loss='binary_crossentropy', metrics=['acc']) #정확도를 모니터링하므로 모델 지표에 포함돼야 함\n",
    "\n",
    "    model.fit(x, y, epochs=10, batch_size=32, callbacks=callbacks_list, validation_data=(x_val, y_val)) #콜백이 val acc & loss를 모니터링 하기에 val data 매개변수에 val data를 전달해야 함\n",
    "    ```"
   ]
  },
  {
   "cell_type": "markdown",
   "id": "fc3ac8b7",
   "metadata": {},
   "source": [
    "4. ReduceLROnPlateau 콜백\n",
    "    1. 검증 손실이 향상되지 않을 때 학습률을 작게 할 수 있음\n",
    "    2. 코드 예시\n",
    "    ```python\n",
    "    callbacks_list = [keras.callbacks.ReduceLROnPlateau(monitor='val_loss',factor=0.1, patience=10,)] #콜백 호출시 학습률을 10배로 줄임\n",
    "    \n",
    "    model.fit(x, y, epochs=10, batch_size=32, callbacks=callbacks_list, validation_data=(x_val, y_val))\n",
    "    ```"
   ]
  },
  {
   "cell_type": "markdown",
   "id": "316a7c97",
   "metadata": {},
   "source": [
    "5. 자신만의 콜백 만들기\n",
    "    1. 매 epoch의 끝에서 검증 세트의 첫 번째 샘플로 모델에 있는 모든 층의 활성화 출력을 넘파이 배열로 계산하여 디스크에 저장하는 자작 콜백의 예시 코드\n",
    "    ```python\n",
    "    import keras\n",
    "    import numpy as np\n",
    "\n",
    "    class ActivationLogger(keras.callbacks.Callback):\n",
    "            def set_model(self, model):\n",
    "                self.model = model\n",
    "                layer_outputs = [layer.output for layer in model.layers]\n",
    "                self.activations_model = keras.models.Model(model.input, layer_outputs)\n",
    "                \n",
    "            def on_epoch_end(self, epoch, logs=None):\n",
    "                if self.validation_data is None:\n",
    "                    raise RuntimeError('Requires validation_data.')\n",
    "            \n",
    "                validation_sample = self.validation_data[0][0:1] #Pick 검증 데이터의 첫 번째 샘플\n",
    "                activations = self.activations_model.predict(validation_sample)\n",
    "                f = open('activation_at_epoch_' + str(epoch) + '.npz', 'wb')\n",
    "                np.savez(f, activations)\n",
    "                f.close()\n",
    "    ```"
   ]
  },
  {
   "cell_type": "markdown",
   "id": "61539ad1",
   "metadata": {},
   "source": [
    "# 7.2.2 텐서보드 소개: 텐서플로의 시각화 프레임워크"
   ]
  },
  {
   "cell_type": "markdown",
   "id": "e3420ca8",
   "metadata": {},
   "source": [
    "1. 텐서보드: 텐서플로와 함께 제공되는 브라우저 기반 시각화 도구\n",
    "2. 기능\n",
    "    1. 훈련하는 동안 측정 지표를 시각적으로 모니터링\n",
    "    2. 모델 구조 시각화\n",
    "    3. 활성화 출력과 그래디언트 히스토그램 생성\n",
    "    4. 3D로 임베딩 표현"
   ]
  },
  {
   "cell_type": "code",
   "execution_count": 1,
   "id": "38a96ad1",
   "metadata": {},
   "outputs": [
    {
     "name": "stdout",
     "output_type": "stream",
     "text": [
      "Model: \"sequential\"\n",
      "_________________________________________________________________\n",
      " Layer (type)                Output Shape              Param #   \n",
      "=================================================================\n",
      " embed (Embedding)           (None, 500, 128)          256000    \n",
      "                                                                 \n",
      " conv1d (Conv1D)             (None, 494, 32)           28704     \n",
      "                                                                 \n",
      " max_pooling1d (MaxPooling1D  (None, 98, 32)           0         \n",
      " )                                                               \n",
      "                                                                 \n",
      " conv1d_1 (Conv1D)           (None, 92, 32)            7200      \n",
      "                                                                 \n",
      " global_max_pooling1d (Globa  (None, 32)               0         \n",
      " lMaxPooling1D)                                                  \n",
      "                                                                 \n",
      " dense (Dense)               (None, 1)                 33        \n",
      "                                                                 \n",
      "=================================================================\n",
      "Total params: 291,937\n",
      "Trainable params: 291,937\n",
      "Non-trainable params: 0\n",
      "_________________________________________________________________\n"
     ]
    }
   ],
   "source": [
    "#텐서보드를 사용한 텍스트 분류 모델\n",
    "import keras\n",
    "import tensorflow as tf\n",
    "from keras import layers\n",
    "from keras.datasets import imdb\n",
    "from keras.preprocessing import sequence\n",
    "\n",
    "max_features = 2000\n",
    "max_len = 500\n",
    "\n",
    "(x_train, y_train), (x_test, y_test) = imdb.load_data(num_words=max_features)\n",
    "x_train = tf.keras.preprocessing.sequence.pad_sequences(x_train, maxlen=max_len)\n",
    "x_test = tf.keras.preprocessing.sequence.pad_sequences(x_test, maxlen=max_len)\n",
    "\n",
    "model = keras.models.Sequential()\n",
    "model.add(layers.Embedding(max_features, 128, input_length=max_len, name='embed'))\n",
    "model.add(layers.Conv1D(32, 7, activation='relu'))\n",
    "model.add(layers.MaxPooling1D(5))\n",
    "model.add(layers.Conv1D(32, 7, activation='relu'))\n",
    "model.add(layers.GlobalMaxPooling1D())\n",
    "model.add(layers.Dense(1))\n",
    "model.summary()\n",
    "model.compile(optimizer='rmsprop', loss='binary_crossentropy', metrics=['acc'])"
   ]
  },
  {
   "cell_type": "code",
   "execution_count": 3,
   "id": "f0cab9c7",
   "metadata": {},
   "outputs": [],
   "source": [
    "#텐서보드 로그 파일을 위한 디렉토리 생성\n",
    "#! mkdir my_log_dir"
   ]
  },
  {
   "cell_type": "code",
   "execution_count": 4,
   "id": "f1cff11c",
   "metadata": {},
   "outputs": [
    {
     "name": "stdout",
     "output_type": "stream",
     "text": [
      "Epoch 1/20\n",
      "157/157 [==============================] - 21s 129ms/step - loss: 0.5866 - acc: 0.6935 - val_loss: 0.4243 - val_acc: 0.8498\n",
      "Epoch 2/20\n",
      "157/157 [==============================] - 20s 128ms/step - loss: 0.4277 - acc: 0.8572 - val_loss: 0.4740 - val_acc: 0.8496\n",
      "Epoch 3/20\n",
      "157/157 [==============================] - 20s 125ms/step - loss: 0.3645 - acc: 0.8831 - val_loss: 0.4822 - val_acc: 0.8472\n",
      "Epoch 4/20\n",
      "157/157 [==============================] - 20s 127ms/step - loss: 0.3302 - acc: 0.9011 - val_loss: 0.5647 - val_acc: 0.8476\n",
      "Epoch 5/20\n",
      "157/157 [==============================] - 20s 127ms/step - loss: 0.2765 - acc: 0.9205 - val_loss: 0.5738 - val_acc: 0.8688\n",
      "Epoch 6/20\n",
      "157/157 [==============================] - 21s 133ms/step - loss: 0.2490 - acc: 0.9351 - val_loss: 0.6295 - val_acc: 0.8666\n",
      "Epoch 7/20\n",
      "157/157 [==============================] - 21s 133ms/step - loss: 0.2030 - acc: 0.9535 - val_loss: 0.6740 - val_acc: 0.8636\n",
      "Epoch 8/20\n",
      "157/157 [==============================] - 20s 130ms/step - loss: 0.1738 - acc: 0.9625 - val_loss: 0.8947 - val_acc: 0.8536\n",
      "Epoch 9/20\n",
      "157/157 [==============================] - 19s 123ms/step - loss: 0.1280 - acc: 0.9812 - val_loss: 0.7764 - val_acc: 0.8670\n",
      "Epoch 10/20\n",
      "157/157 [==============================] - 19s 124ms/step - loss: 0.1206 - acc: 0.9833 - val_loss: 0.8564 - val_acc: 0.8688\n",
      "Epoch 11/20\n",
      "157/157 [==============================] - 20s 124ms/step - loss: 0.1034 - acc: 0.9868 - val_loss: 0.9501 - val_acc: 0.8718\n",
      "Epoch 12/20\n",
      "157/157 [==============================] - 19s 124ms/step - loss: 0.0948 - acc: 0.9894 - val_loss: 1.0174 - val_acc: 0.8714\n",
      "Epoch 13/20\n",
      "157/157 [==============================] - 19s 124ms/step - loss: 0.0962 - acc: 0.9890 - val_loss: 1.0235 - val_acc: 0.8736\n",
      "Epoch 14/20\n",
      "157/157 [==============================] - 20s 128ms/step - loss: 0.0851 - acc: 0.9915 - val_loss: 1.1103 - val_acc: 0.8684\n",
      "Epoch 15/20\n",
      "157/157 [==============================] - 20s 125ms/step - loss: 0.0875 - acc: 0.9911 - val_loss: 1.1545 - val_acc: 0.8704\n",
      "Epoch 16/20\n",
      "157/157 [==============================] - 20s 128ms/step - loss: 0.1255 - acc: 0.9887 - val_loss: 1.1855 - val_acc: 0.8650\n",
      "Epoch 17/20\n",
      "157/157 [==============================] - 20s 129ms/step - loss: 0.0870 - acc: 0.9915 - val_loss: 1.7821 - val_acc: 0.8202\n",
      "Epoch 18/20\n",
      "157/157 [==============================] - 20s 127ms/step - loss: 0.0832 - acc: 0.9931 - val_loss: 1.1483 - val_acc: 0.8726\n",
      "Epoch 19/20\n",
      "157/157 [==============================] - 20s 129ms/step - loss: 0.0807 - acc: 0.9934 - val_loss: 1.2112 - val_acc: 0.8722\n",
      "Epoch 20/20\n",
      "157/157 [==============================] - 20s 130ms/step - loss: 0.0864 - acc: 0.9923 - val_loss: 1.2865 - val_acc: 0.8682\n"
     ]
    }
   ],
   "source": [
    "#텐서보드 콜백과 함께 모델 훈련하기\n",
    "callbacks = [keras.callbacks.TensorBoard(log_dir='my_log_dir', histogram_freq=1, embeddings_freq=1,)] #1 epoch마다 활성화 출력의 히스토그램과 임베딩 데이터를 기록\n",
    "history = model.fit(x_train, y_train, epochs=20, batch_size=128, validation_split=0.2, callbacks=callbacks)"
   ]
  },
  {
   "cell_type": "code",
   "execution_count": 8,
   "id": "1629ce2b",
   "metadata": {},
   "outputs": [
    {
     "name": "stdout",
     "output_type": "stream",
     "text": [
      "You must install pydot (`pip install pydot`) and install graphviz (see instructions at https://graphviz.gitlab.io/download/) for plot_model to work.\n"
     ]
    }
   ],
   "source": [
    "from keras.utils import plot_model\n",
    "\n",
    "plot_model(model, to_file='model.png')"
   ]
  },
  {
   "cell_type": "code",
   "execution_count": null,
   "id": "0d0191fa",
   "metadata": {},
   "outputs": [],
   "source": [
    "plot_model(model, show_shapes=True, to_file='model2.png')"
   ]
  }
 ],
 "metadata": {
  "kernelspec": {
   "display_name": "Python 3 (ipykernel)",
   "language": "python",
   "name": "python3"
  },
  "language_info": {
   "codemirror_mode": {
    "name": "ipython",
    "version": 3
   },
   "file_extension": ".py",
   "mimetype": "text/x-python",
   "name": "python",
   "nbconvert_exporter": "python",
   "pygments_lexer": "ipython3",
   "version": "3.9.13"
  }
 },
 "nbformat": 4,
 "nbformat_minor": 5
}
