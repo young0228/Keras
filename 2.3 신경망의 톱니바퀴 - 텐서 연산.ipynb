{
 "cells": [
  {
   "cell_type": "markdown",
   "id": "86dc154d",
   "metadata": {},
   "source": [
    "2.3.1 원소별 연산"
   ]
  },
  {
   "cell_type": "code",
   "execution_count": 1,
   "id": "32594fc1",
   "metadata": {},
   "outputs": [],
   "source": [
    "def naive_relu(x):\n",
    "    assert len(x.shape) ==2\n",
    "    \n",
    "    x = x.copy()\n",
    "    for i in range(x.shape[0]):\n",
    "        for j in range(x.shape[1]):\n",
    "            x[i, j] = max(x[i,j], 0)\n",
    "    return x"
   ]
  },
  {
   "cell_type": "code",
   "execution_count": 2,
   "id": "528c1dc3",
   "metadata": {},
   "outputs": [],
   "source": [
    "def naive_add(x, y):\n",
    "    assert len(x.shape) ==2\n",
    "    assert x.shape == y.shape\n",
    "    \n",
    "    x= x.copy()\n",
    "    for i in range(x.shape[0]):\n",
    "        for j in range(x.shape[1]):\n",
    "            x[i, j] += y[i, j]\n",
    "    return x"
   ]
  },
  {
   "cell_type": "markdown",
   "id": "5287f7aa",
   "metadata": {},
   "source": [
    "2.3.2 브로드캐스팅"
   ]
  },
  {
   "cell_type": "code",
   "execution_count": 6,
   "id": "47147878",
   "metadata": {},
   "outputs": [],
   "source": [
    "import numpy as np\n",
    "\n",
    "x = np.random.random((64,3,32,10))\n",
    "y = np.random.random((32,10))\n",
    "\n",
    "z = np.maximum(x,y)"
   ]
  }
 ],
 "metadata": {
  "kernelspec": {
   "display_name": "Python 3 (ipykernel)",
   "language": "python",
   "name": "python3"
  },
  "language_info": {
   "codemirror_mode": {
    "name": "ipython",
    "version": 3
   },
   "file_extension": ".py",
   "mimetype": "text/x-python",
   "name": "python",
   "nbconvert_exporter": "python",
   "pygments_lexer": "ipython3",
   "version": "3.9.13"
  }
 },
 "nbformat": 4,
 "nbformat_minor": 5
}
